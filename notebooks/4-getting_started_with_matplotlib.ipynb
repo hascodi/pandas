{
 "cells": [
  {
   "cell_type": "markdown",
   "id": "2c0397e0-4592-48dd-90d9-6a6dc95be2f9",
   "metadata": {
    "slideshow": {
     "slide_type": "slide"
    },
    "tags": []
   },
   "source": [
    "# Section 1: Getting Started With Matplotlib\n",
    "\n",
    "We will begin by familiarizing ourselves with Matplotlib. Moving beyond the default options, we will explore how to customize various aspects of our visualizations. By the end of this section, you will be able to generate plots using the Matplotlib API directly, as well as customize the plots that libraries like pandas and Seaborn create for you."
   ]
  },
  {
   "cell_type": "markdown",
   "id": "d669d10e-de7f-4f53-bc78-84e0f3cf2d0a",
   "metadata": {
    "slideshow": {
     "slide_type": "slide"
    },
    "tags": []
   },
   "source": [
    "## Why start with Matplotlib?\n",
    "\n",
    "There are many libraries for creating data visualizations in Python (even more if you include those that build on top of them). In this section, we will learn about Matplotlib's role in the Python data visualization ecosystem before diving into the library itself."
   ]
  },
  {
   "cell_type": "markdown",
   "id": "d8747cd3-6f5e-4b8b-8f17-0d17d9102fa1",
   "metadata": {
    "slideshow": {
     "slide_type": "subslide"
    },
    "tags": []
   },
   "source": [
    "<figure>\n",
    "  <blockquote cite=\"https://matplotlib.org/stable/index.html\" style=\"border-left: none; box-shadow: none;\">\n",
    "    Matplotlib is a comprehensive library for creating static, animated, and interactive visualizations in Python. &#91;It&#93; makes easy things easy and hard things possible.\n",
    "  </blockquote>\n",
    "  <figcaption style=\"text-align: right\">&ndash; <a href=\"https://matplotlib.org/stable/index.html\" target=\"_blank\" rel=\"noopener noreferrer\">Matplotlib documentation</a></figcaption>\n",
    "</figure>"
   ]
  },
  {
   "cell_type": "markdown",
   "id": "cbcab960-dab9-4011-92d9-ccde43e51ed2",
   "metadata": {
    "slideshow": {
     "slide_type": "subslide"
    },
    "tags": []
   },
   "source": [
    "We will start by working with the `stackoverflow.zip` dataset, which contains the title and tags for all Stack Overflow questions tagged with a select few Python libraries since Stack Overflow's inception (Sept. 2008) through Sept. 12, 2021. The data comes from the [Stack Overflow API](https://api.stackexchange.com/docs/search) – more information can be found in [this](../data/collection/stackoverflow.ipynb) notebook. Here, we are aggregating the data monthly to get the total number of questions per library per month:"
   ]
  },
  {
   "cell_type": "code",
   "execution_count": null,
   "id": "7d79d24f-4190-4362-b803-b5aa119a8281",
   "metadata": {},
   "outputs": [],
   "source": [
    "import pandas as pd\n",
    "\n",
    "stackoverflow_monthly = pd.read_csv(\n",
    "    '../data/stackoverflow.zip', parse_dates=True, index_col='creation_date'\n",
    ").loc[:'2021-08','pandas':'bokeh'].resample('1M').sum()\n",
    "stackoverflow_monthly.sample(5, random_state=1)"
   ]
  },
  {
   "cell_type": "markdown",
   "id": "097bcf20-3aeb-4dfa-a289-979499243242",
   "metadata": {},
   "source": [
    "*Source: [Stack Exchange Network](https://api.stackexchange.com/docs/search)*"
   ]
  },
  {
   "cell_type": "markdown",
   "id": "bdf6a061-c4e5-4bf4-a505-80c9f4dac9f4",
   "metadata": {
    "slideshow": {
     "slide_type": "subslide"
    },
    "tags": []
   },
   "source": [
    "Those familiar with pandas have likely used the `plot()` method to generate visualizations. Here, we plot monthly Matplotlib questions over time:"
   ]
  },
  {
   "cell_type": "code",
   "execution_count": null,
   "id": "8bea19cc-6546-4898-9af6-87faf01f5f9c",
   "metadata": {
    "tags": []
   },
   "outputs": [],
   "source": [
    "%config InlineBackend.figure_formats = ['svg']\n",
    "%matplotlib inline\n",
    "stackoverflow_monthly.matplotlib.plot(\n",
    "    figsize=(8, 2), xlabel='creation date', ylabel='total questions', \n",
    "    title='Matplotlib Questions per Month\\n(since the creation of Stack Overflow)',\n",
    ")"
   ]
  },
  {
   "cell_type": "markdown",
   "id": "a0e5892a-0584-45e8-b53a-2b54063bee22",
   "metadata": {
    "slideshow": {
     "slide_type": "fragment"
    },
    "tags": []
   },
   "source": [
    "*Tip: The previous example used the `%matplotlib inline` IPython magic command to embed inline Matplotlib images (in SVG format as specified by the `%config` line). Curious how it works? Check out the source code [here](https://github.com/ipython/matplotlib-inline).*"
   ]
  },
  {
   "cell_type": "markdown",
   "id": "a6df28de-ff60-41a0-b7d2-5c31459b57fa",
   "metadata": {
    "slideshow": {
     "slide_type": "subslide"
    },
    "tags": []
   },
   "source": [
    "Notice that this returns a Matplotlib `Axes` object since pandas is using Matplotlib as a plotting backend. This means that pandas takes care of a lot of the legwork for us &ndash; some examples include the following:\n",
    "\n",
    "- Creating the figure: [source code](https://github.com/pandas-dev/pandas/blob/f5c224215ad0b3728173c67330ffcf13b35bdb2e/pandas/plotting/_matplotlib/core.py#L373-L392)\n",
    "- Calling the `Axes.plot()` method: [source code](https://github.com/pandas-dev/pandas/blob/f5c224215ad0b3728173c67330ffcf13b35bdb2e/pandas/plotting/_matplotlib/core.py#L759-L760)\n",
    "- Adding titles/labels: [source code](https://github.com/pandas-dev/pandas/blob/f5c224215ad0b3728173c67330ffcf13b35bdb2e/pandas/plotting/_matplotlib/core.py#L576-L591)"
   ]
  },
  {
   "cell_type": "markdown",
   "id": "1caf7fdd-3b94-4d90-ac5e-7300aba1fb44",
   "metadata": {
    "slideshow": {
     "slide_type": "fragment"
    },
    "tags": []
   },
   "source": [
    "While pandas can do a lot of the work for us, there are benefits to understanding how to work with Matplotlib directly."
   ]
  },
  {
   "cell_type": "markdown",
   "id": "07ed8335-9a7c-4f35-91f5-11394b92392f",
   "metadata": {
    "slideshow": {
     "slide_type": "subslide"
    },
    "tags": []
   },
   "source": [
    "#### Flexibility\n",
    "\n",
    "We can use other data structures (such as NumPy arrays) without the overhead of converting to a pandas data structure just to plot."
   ]
  },
  {
   "cell_type": "markdown",
   "id": "b8dd2a0e-9043-4b53-a2db-ea41ea243595",
   "metadata": {
    "slideshow": {
     "slide_type": "subslide"
    },
    "tags": []
   },
   "source": [
    "#### Customization\n",
    "\n",
    "Even if we use pandas to make the initial plot, we can use Matplotlib commands on the `Axes` object that is returned to tweak other parts of the visualization. This is also the case for any library that uses Matplotlib as its plotting backend &ndash; examples of which include the following:\n",
    "- [Cartopy](https://scitools.org.uk/cartopy/docs/latest/): geospatial data processing to produce map visualizations\n",
    "- [ggplot](https://github.com/yhat/ggplot): Python version of the popular `ggplot2` R package\n",
    "- [HoloViews](http://holoviews.org/): interactive visualizations with minimal code\n",
    "- [Seaborn](https://seaborn.pydata.org/): high-level interface for creating statistical visualizations with Matplotlib\n",
    "- [Yellowbrick](https://www.scikit-yb.org/): extension of Scikit-Learn for creating visualizations to analyze machine learning performance\n",
    "\n",
    "*Note: Matplotlib maintains a list of such libraries [here](https://matplotlib.org/stable/thirdpartypackages/index.html). We will cover HoloViews later in this workshop, and examples with Seaborn can be found in [this pandas workshop](https://github.com/stefmolin/pandas-workshop).*"
   ]
  },
  {
   "cell_type": "markdown",
   "id": "f410bad7-f423-463c-ac55-a4457d139b8b",
   "metadata": {
    "slideshow": {
     "slide_type": "subslide"
    },
    "tags": []
   },
   "source": [
    "#### Extensibility\n",
    "\n",
    "You can also build on top of Matplotlib for personal/work libraries. This might mean defining custom plot themes or functionality to create commonly-used visualizations."
   ]
  },
  {
   "cell_type": "markdown",
   "id": "d8ea3488-704a-4600-9eba-23e11d2bf60a",
   "metadata": {
    "slideshow": {
     "slide_type": "fragment"
    },
    "tags": []
   },
   "source": [
    "Furthermore, if you want to contribute to open source data visualization libraries (like the aforementioned), knowledge of Matplotlib will come in handy. An example is the addition of the `refline()` method in the Seaborn library. This method makes it possible to draw horizontal/vertical reference lines on all subplots at once. The Matplotlib methods `axhline()` and `axvline()` are the basis of [this contribution](https://github.com/mwaskom/seaborn/commit/a626c0ae29b8c777b8e1342948e1611b984bf27b):\n",
    "\n",
    "<div style=\"text-align: center;\">\n",
    "    <img width=\"60%\" src=\"https://pbs.twimg.com/media/FBSw8BPX0AAa3wn?format=jpg&name=medium\" alt=\"Seaborn refline() example\" style=\"min-width: 300px\">\n",
    "    <div><small><em><a href=\"https://twitter.com/chris1610/status/1446976863365124098\">Source</a></em></small></div>\n",
    "</div>"
   ]
  },
  {
   "cell_type": "markdown",
   "id": "1dfad838-94b9-402b-89d5-8c9afed45b83",
   "metadata": {
    "slideshow": {
     "slide_type": "slide"
    },
    "tags": []
   },
   "source": [
    "## Matplotlib basics\n",
    "\n",
    "In this workshop, we will explore the static and animated visualization functionality to gain a breadth of knowledge of the library. While we won't go too in depth, additional resources will be provided throughout. Now, let's get started with the basics."
   ]
  },
  {
   "cell_type": "markdown",
   "id": "a7a9ac5b-cf98-49d0-9b54-180d521215e1",
   "metadata": {
    "slideshow": {
     "slide_type": "subslide"
    },
    "tags": []
   },
   "source": [
    "The `Figure` object is the container for all components of our visualization. It contains one or more `Axes` objects, which can be thought of as the (sub)plots, as well as other [*Artists*](https://matplotlib.org/stable/tutorials/intermediate/artists.html), which draw on the plot canvas (x-axis, y-axis, legend, lines, etc.). The following image from the Matplotlib documentation illustrates the different components of a figure:\n",
    "\n",
    "<div style=\"text-align: center;\">\n",
    "    <img width=\"50%\" src=\"https://raw.githubusercontent.com/stefmolin/python-data-viz-workshop/main/media/figure_anatomy.png\" alt=\"Matplotlib figure anatomy\" style=\"min-width: 400px\">\n",
    "    <div><small><em><a href=\"https://matplotlib.org/stable/tutorials/introductory/usage.html#parts-of-a-figure\">Source</a></em></small></div>\n",
    "</div>"
   ]
  },
  {
   "cell_type": "markdown",
   "id": "06a812c2-13ce-4d68-89fd-c1187c84b5de",
   "metadata": {
    "slideshow": {
     "slide_type": "subslide"
    },
    "tags": []
   },
   "source": [
    "There are two ways we can build visualizations with Matplotlib:\n",
    "1. **Functional**: call functions provided by the `matplotlib.pyplot` module\n",
    "2. **Object-oriented**: call methods on `Figure` and `Axes` objects"
   ]
  },
  {
   "cell_type": "markdown",
   "id": "db1ae46a-52c4-4021-9363-446047057d95",
   "metadata": {
    "slideshow": {
     "slide_type": "fragment"
    },
    "tags": []
   },
   "source": [
    "While the object-oriented (OO) approach is recommended for non-interactive use (i.e., not in a Jupyter Notebook), either approach is valid &ndash; you should, however, try to avoid mixing them. Note that different use cases lend themselves to different approaches, so we will explore examples of both."
   ]
  },
  {
   "cell_type": "markdown",
   "id": "fea4bfc7-9057-4648-a90b-4d31c4e3833c",
   "metadata": {
    "slideshow": {
     "slide_type": "fragment"
    },
    "tags": []
   },
   "source": [
    "First, we will import the `pyplot` module:"
   ]
  },
  {
   "cell_type": "code",
   "execution_count": null,
   "id": "0c0858ec-f406-48b8-87b1-ab95be6b7a9f",
   "metadata": {},
   "outputs": [],
   "source": [
    "import matplotlib.pyplot as plt"
   ]
  },
  {
   "cell_type": "markdown",
   "id": "bd3999bd-58fd-4fe8-b7fb-3a196548c5a1",
   "metadata": {
    "slideshow": {
     "slide_type": "subslide"
    },
    "tags": []
   },
   "source": [
    "#### Functional approach"
   ]
  },
  {
   "cell_type": "code",
   "execution_count": null,
   "id": "da085fd2-e197-42ac-a21a-d921ac988f1d",
   "metadata": {},
   "outputs": [],
   "source": [
    "# figsize is determined by rcParams for plt.plot()\n",
    "plt.plot(stackoverflow_monthly.index, stackoverflow_monthly.matplotlib)\n",
    "\n",
    "_ = plt.xlabel('creation date')\n",
    "_ = plt.ylabel('total questions')\n",
    "_ = plt.title('Matplotlib Questions per Month\\n(since the creation of Stack Overflow)')"
   ]
  },
  {
   "cell_type": "markdown",
   "id": "58d9faef-1c7c-4457-9e9a-6472737d726a",
   "metadata": {
    "slideshow": {
     "slide_type": "fragment"
    },
    "tags": []
   },
   "source": [
    "*Note: Since we ran `%matplotlib inline` earlier, we don't need to do anything to display our plot here. If we hadn't, we would need to call `plt.show()` to do so.*"
   ]
  },
  {
   "cell_type": "markdown",
   "id": "54111bd9-8f16-4f5c-aaca-feed67a16aa6",
   "metadata": {
    "slideshow": {
     "slide_type": "subslide"
    },
    "tags": []
   },
   "source": [
    "#### Object-oriented approach"
   ]
  },
  {
   "cell_type": "code",
   "execution_count": null,
   "id": "b2b157e4-3a24-4c74-8d06-cdc4bb245139",
   "metadata": {},
   "outputs": [],
   "source": [
    "# creates the Figure and adds a single Axes object\n",
    "fig, ax = plt.subplots(figsize=(8, 2))\n",
    "\n",
    "ax.plot(stackoverflow_monthly.index, stackoverflow_monthly.matplotlib)\n",
    "\n",
    "ax.set_xlabel('creation date')\n",
    "ax.set_ylabel('total questions')\n",
    "ax.set_title('Matplotlib Questions per Month\\n(since the creation of Stack Overflow)')"
   ]
  },
  {
   "cell_type": "markdown",
   "id": "ff9c8e87-949a-48dd-ac8c-d2ae7b26a0ed",
   "metadata": {
    "slideshow": {
     "slide_type": "fragment"
    },
    "tags": []
   },
   "source": [
    "*Tip: Take note that each of the plotting commands is returning something. These are Matplotlib objects that we can use to further customize the visualization as well.*"
   ]
  },
  {
   "cell_type": "markdown",
   "id": "395b79fc-46de-4b19-af7e-f78df7e1d62b",
   "metadata": {
    "slideshow": {
     "slide_type": "subslide"
    },
    "tags": []
   },
   "source": [
    "As mentioned before, we can use Matplotlib code to modify the plot that pandas created for us. Here, we will use the object-oriented approach to remove the top and right spines and to start the y-axis at 0, while keeping the current setting for the end: "
   ]
  },
  {
   "cell_type": "code",
   "execution_count": null,
   "id": "f0ebaa21-3eec-4064-b08c-3ea73422579c",
   "metadata": {
    "tags": []
   },
   "outputs": [],
   "source": [
    "ax = stackoverflow_monthly.matplotlib.plot(\n",
    "    figsize=(8, 2), xlabel='creation date', ylabel='total questions', \n",
    "    title='Matplotlib Questions per Month\\n(since the creation of Stack Overflow)',\n",
    ")\n",
    "ax.set_ylim(0, None) # this can also be done with pandas\n",
    "\n",
    "# hide some of the spines (must be done with Matplotlib)\n",
    "for spine in ['top', 'right']:\n",
    "    ax.spines[spine].set_visible(False)"
   ]
  },
  {
   "cell_type": "markdown",
   "id": "1ac9ebe6-509c-47ab-986c-58f1c9b4ee06",
   "metadata": {
    "slideshow": {
     "slide_type": "fragment"
    },
    "tags": []
   },
   "source": [
    "*Tip: You can use the functional approach to change the y-axis limits by replacing `ax.set_ylim(0, None)` with `plt.ylim(0, None)`.*"
   ]
  },
  {
   "cell_type": "markdown",
   "id": "dacf00a3-8d04-4767-9db8-09dcf1d33605",
   "metadata": {
    "slideshow": {
     "slide_type": "subslide"
    },
    "tags": []
   },
   "source": [
    "Now that we have the basics down, let's see how to create other plot types and add additional components to them like legends, reference lines, and annotations. Note that the anatomy of a figure diagram we looked at earlier will help moving from idea to implementation since it helps identify the right keywords to search. It may also be helpful to bookmark [this](https://s3.amazonaws.com/assets.datacamp.com/blog_assets/Python_Matplotlib_Cheat_Sheet.pdf) Matplotlib cheat sheet."
   ]
  },
  {
   "cell_type": "markdown",
   "id": "399a637e-ad12-48ea-8a7e-bf038e57381d",
   "metadata": {
    "slideshow": {
     "slide_type": "slide"
    },
    "tags": []
   },
   "source": [
    "## Plotting with Matplotlib\n",
    "\n",
    "Now that we understand a little bit of how Matplotlib works, we will walk through some more involved examples, which include legends, reference lines, and/or annotations, building them up step by step. Note that while using a library like pandas to do the initial plot creation can makes things easier, we will focus on using Matplotlib exclusively to get more familiar with it."
   ]
  },
  {
   "cell_type": "markdown",
   "id": "51049fac-badc-435d-8705-6e7dca706d98",
   "metadata": {
    "slideshow": {
     "slide_type": "subslide"
    },
    "tags": []
   },
   "source": [
    "Each example in this section will showcase both how to build a specific plot with Matplotlib directly and how to customize it with some of the more advanced plotting techniques available. In particular, we will learn how to build and customize the following plot types:\n",
    "- line plots\n",
    "- scatter plots\n",
    "- area plots\n",
    "- bar plots\n",
    "- stacked bar plots\n",
    "- histograms\n",
    "- box plots"
   ]
  },
  {
   "cell_type": "markdown",
   "id": "dcf33791-9c06-460c-bc81-b313c090318a",
   "metadata": {
    "slideshow": {
     "slide_type": "slide"
    },
    "tags": []
   },
   "source": [
    "### Line plot\n",
    "\n",
    "The Stack Overflow data we have been working with thus far is a time series, so the first set of visualizations will be for studying the evolution of the data over time. However, rather than using a monthly aggregate like before, we will use daily data, so we will read in the data once more and this time aggregate it daily:"
   ]
  },
  {
   "cell_type": "code",
   "execution_count": null,
   "id": "1081950e-f725-4ca3-8858-cbb1daeb42a9",
   "metadata": {},
   "outputs": [],
   "source": [
    "stackoverflow_daily = pd.read_csv(\n",
    "    '../data/stackoverflow.zip', parse_dates=True, index_col='creation_date'\n",
    ").loc[:,'pandas':'bokeh'].resample('1D').sum()\n",
    "stackoverflow_daily.tail()"
   ]
  },
  {
   "cell_type": "markdown",
   "id": "08258d3d-5bbb-46b7-b104-7809815fc5f5",
   "metadata": {
    "slideshow": {
     "slide_type": "subslide"
    },
    "tags": []
   },
   "source": [
    "We are going to visualize how the rolling 30-day mean number of Matplotlib questions changed over time, along with the standard deviation. To do so, we first need to calculate these data points using pandas:"
   ]
  },
  {
   "cell_type": "code",
   "execution_count": null,
   "id": "32fd1de5-04fa-4924-abaa-e9907186a6c6",
   "metadata": {
    "tags": []
   },
   "outputs": [],
   "source": [
    "avgs = stackoverflow_daily.rolling('30D').mean()\n",
    "stds = stackoverflow_daily.rolling('30D').std()\n",
    "\n",
    "avgs.tail()"
   ]
  },
  {
   "cell_type": "markdown",
   "id": "f5032fca-1487-4e63-a7e5-82d8c3053bd0",
   "metadata": {
    "slideshow": {
     "slide_type": "subslide"
    },
    "tags": []
   },
   "source": [
    "Now, we can proceed to building this visualization. We will work through the following steps over the next few slides:\n",
    "1. Create the line plot.\n",
    "2. Add a shaded region for $\\pm$2 standard deviations from the mean.\n",
    "3. Set the axis labels, y-axis limits, plot title, and despine the plot."
   ]
  },
  {
   "cell_type": "markdown",
   "id": "6e735614-1d0a-43a5-9df2-5134ad7b1602",
   "metadata": {
    "slideshow": {
     "slide_type": "subslide"
    },
    "tags": []
   },
   "source": [
    "#### 1. Create the line plot.\n",
    "\n",
    "By default, the `plot()` method will return a line plot:"
   ]
  },
  {
   "cell_type": "code",
   "execution_count": null,
   "id": "9fe17f0d-9292-432e-a251-d78d24fc960a",
   "metadata": {
    "tags": []
   },
   "outputs": [],
   "source": [
    "fig, ax = plt.subplots(figsize=(8, 2))\n",
    "ax.plot(avgs.index, avgs.matplotlib)"
   ]
  },
  {
   "cell_type": "markdown",
   "id": "645a9f15-eb21-4125-8642-f6bc28b14f36",
   "metadata": {
    "slideshow": {
     "slide_type": "subslide"
    },
    "tags": []
   },
   "source": [
    "#### 2. Add a shaded region for $\\pm$2 standard deviations from the mean.\n",
    "\n",
    "Next, we use the `fill_between()` method to shade the region $\\pm$2 standard deviations from the mean. Note that we also set `alpha=0.25` to make the region 25% opaque &ndash; transparent enough to easily see the line for the rolling 30-day mean:"
   ]
  },
  {
   "cell_type": "code",
   "execution_count": null,
   "id": "21698144-75f4-489f-885a-0979f8516635",
   "metadata": {
    "tags": []
   },
   "outputs": [],
   "source": [
    "fig, ax = plt.subplots(figsize=(8, 2))\n",
    "ax.plot(avgs.index, avgs.matplotlib)\n",
    "ax.fill_between(\n",
    "    avgs.index, avgs.matplotlib - 2 * stds.matplotlib, \n",
    "    avgs.matplotlib + 2 * stds.matplotlib, alpha=0.25\n",
    ")"
   ]
  },
  {
   "cell_type": "markdown",
   "id": "1f61428e-9cbb-457c-9eeb-34262aab14ce",
   "metadata": {
    "slideshow": {
     "slide_type": "subslide"
    },
    "tags": []
   },
   "source": [
    "#### 3. Set the axis labels, y-axis limits, plot title, and despine the plot.\n",
    "\n",
    "Now for the final touches. While in previous examples we used `ax.set_xlabel()`, `ax.set_ylabel()`, etc., here we use `ax.set()`, which allows us to set multiple attributes of the plot in a single method call."
   ]
  },
  {
   "cell_type": "code",
   "execution_count": null,
   "id": "867ae3d1-aa87-404b-ad39-e240c6387b7c",
   "metadata": {
    "tags": []
   },
   "outputs": [],
   "source": [
    "fig, ax = plt.subplots(figsize=(8, 2))\n",
    "ax.plot(avgs.index, avgs.matplotlib)\n",
    "ax.fill_between(\n",
    "    avgs.index, avgs.matplotlib - 2 * stds.matplotlib, \n",
    "    avgs.matplotlib + 2 * stds.matplotlib, alpha=0.25\n",
    ")\n",
    "\n",
    "ax.set(\n",
    "    xlabel='creation date', ylabel='total questions', ylim=(0, None),\n",
    "    title='Rolling 30-Day Average of Matplotlib Questions per Day'\n",
    ")\n",
    "\n",
    "for spine in ['top', 'right']:\n",
    "    ax.spines[spine].set_visible(False)"
   ]
  },
  {
   "cell_type": "markdown",
   "id": "95b3d0dc-0d69-4e53-a823-ce7c0b90adf0",
   "metadata": {
    "slideshow": {
     "slide_type": "subslide"
    },
    "tags": []
   },
   "source": [
    "Next, we will make a utility function to remove the top and right spines of our plots more easily going forward. It's considered good practice to return the `Axes` object:"
   ]
  },
  {
   "cell_type": "code",
   "execution_count": null,
   "id": "4aa18723-cddd-4969-81ab-727111e10d83",
   "metadata": {},
   "outputs": [],
   "source": [
    "def despine(ax):\n",
    "    for spine in ['top', 'right']:\n",
    "        ax.spines[spine].set_visible(False)\n",
    "    return ax"
   ]
  },
  {
   "cell_type": "markdown",
   "id": "0cc91aed-3d76-4d96-a62c-ed33075979ea",
   "metadata": {
    "slideshow": {
     "slide_type": "fragment"
    },
    "tags": []
   },
   "source": [
    "*Note: Since we are working in a Jupyter Notebook, our figures are automatically closed after we run the cell. However, if you are working elsewhere, make sure to call `plt.close()` to free up those resources when you are finished.*"
   ]
  },
  {
   "cell_type": "markdown",
   "id": "5a5edf6f-024d-4211-9604-5586e2f32584",
   "metadata": {
    "slideshow": {
     "slide_type": "slide"
    },
    "tags": []
   },
   "source": [
    "### Scatter plot\n",
    "\n",
    "The `plot()` method can also be used to create scatter plots, but we have to pass in some additional information. Let's build up to a scatter plot of monthly Matplotlib questions with some \"best fit\" lines:\n",
    "\n",
    "1. Create the scatter plot.\n",
    "2. Convert to Matplotlib dates.\n",
    "3. Add the best fit lines.\n",
    "4. Label the axes, add a legend, and despine.\n",
    "5. Format both the x- and y-axis tick labels."
   ]
  },
  {
   "cell_type": "markdown",
   "id": "aaf384ea-74a4-41f1-94f9-de3fdb1136e7",
   "metadata": {
    "slideshow": {
     "slide_type": "subslide"
    },
    "tags": []
   },
   "source": [
    "#### 1. Create the scatter plot.\n",
    "\n",
    "So far, we have passed x and y as positional arguments to the `plot()` method; however, there is a third argument we haven't explored: the format string (`fmt`) is a shorthand for specifying the marker (shape of the point), line style, and color to use for the plot. We can use this to create a scatter plot with the `plot()` method."
   ]
  },
  {
   "cell_type": "markdown",
   "id": "72ab73f9-b761-4652-a579-38f8fe84222f",
   "metadata": {
    "slideshow": {
     "slide_type": "fragment"
    },
    "tags": []
   },
   "source": [
    "Note that while there is some flexibility in the order these are specified, it is recommended that we specify them in the following order: \n",
    "\n",
    "```python\n",
    "fmt = '[marker][line][color]'\n",
    "```"
   ]
  },
  {
   "cell_type": "markdown",
   "id": "d2938dde-a7f1-4c45-a0b9-f21145f7a8ed",
   "metadata": {
    "slideshow": {
     "slide_type": "subslide"
    },
    "tags": []
   },
   "source": [
    "Here, we use the format string `ok` to create a scatter plot with black (`k`) circles (`o`); notice that we don't specify a line style because we don't want lines this time:"
   ]
  },
  {
   "cell_type": "code",
   "execution_count": null,
   "id": "5e178040-6a7c-4f34-b3bd-81e3bc4b6533",
   "metadata": {},
   "outputs": [],
   "source": [
    "fig, ax = plt.subplots(figsize=(9, 3))\n",
    "ax.plot(\n",
    "    stackoverflow_monthly.index,\n",
    "    stackoverflow_monthly.matplotlib, \n",
    "    'ok', label=None, alpha=0.5\n",
    ")"
   ]
  },
  {
   "cell_type": "markdown",
   "id": "c1e7983b-ebe9-4f8b-8aa0-1c12fddf3fa1",
   "metadata": {
    "slideshow": {
     "slide_type": "fragment"
    },
    "tags": []
   },
   "source": [
    "*Tip: As an alternative, the `scatter()` method can be used to create a scatter plot, in which case we don't need to specify the format string (`fmt`).*"
   ]
  },
  {
   "cell_type": "markdown",
   "id": "2045dc18-e634-4a5d-9644-0a91119b8bd4",
   "metadata": {
    "slideshow": {
     "slide_type": "subslide"
    },
    "tags": []
   },
   "source": [
    "#### 2. Convert to Matplotlib dates.\n",
    "\n",
    "In the previous example, we used `stackoverflow_monthly.index` as our x values. While Matplotlib was able to correctly show the years on the x-axis, when we try to add the best fit lines, we will have issues. This is because Matplotlib works with dates a little differently. To get around this, we will convert the dates to Matplotlib dates while we build up the plot; then, at the end, we will format them into a human-readable format."
   ]
  },
  {
   "cell_type": "markdown",
   "id": "75c6ffc6-3603-4ffa-a1ac-68801095e44b",
   "metadata": {
    "slideshow": {
     "slide_type": "fragment"
    },
    "tags": []
   },
   "source": [
    "We can use the `date2num()` function in the `matplotlib.dates` module to convert to Matplotlib dates:"
   ]
  },
  {
   "cell_type": "code",
   "execution_count": null,
   "id": "57bf435f-c683-40b9-b731-bf28d515f7c0",
   "metadata": {
    "tags": []
   },
   "outputs": [],
   "source": [
    "import matplotlib.dates as mdates\n",
    "\n",
    "x_axis_dates = mdates.date2num(stackoverflow_monthly.index)\n",
    "x_axis_dates[:5]"
   ]
  },
  {
   "cell_type": "markdown",
   "id": "e4a41b01-3952-4d5d-b8af-0f3880d0bb33",
   "metadata": {
    "slideshow": {
     "slide_type": "subslide"
    },
    "tags": []
   },
   "source": [
    "Now, let's update our plot to use these dates:"
   ]
  },
  {
   "cell_type": "code",
   "execution_count": null,
   "id": "5aff03e9-35dd-4815-8073-75af3af4b4ed",
   "metadata": {
    "tags": []
   },
   "outputs": [],
   "source": [
    "fig, ax = plt.subplots(figsize=(9, 3))\n",
    "ax.plot(\n",
    "    x_axis_dates, stackoverflow_monthly.matplotlib, \n",
    "    'ok', label=None, alpha=0.5\n",
    ")"
   ]
  },
  {
   "cell_type": "markdown",
   "id": "ea19f627-9cee-41ca-9675-1553f780ba20",
   "metadata": {
    "slideshow": {
     "slide_type": "subslide"
    },
    "tags": []
   },
   "source": [
    "#### 3. Add the best fit lines.\n",
    "\n",
    "We will use NumPy to obtain the best fit lines, which will be a first degree and a second degree polynomial. The `polyfit()` function fits a polynomial of the specified degree to our data and `poly1d()` instantiates a polynomial that we can evaluate at different x values to obtain the y values for the best fit line:\n",
    "\n",
    "```python\n",
    "import numpy as np\n",
    "\n",
    "degree = 1\n",
    "poly = np.poly1d(\n",
    "    np.polyfit(x_axis_dates, stackoverflow_monthly.matplotlib, degree)\n",
    ")\n",
    "```"
   ]
  },
  {
   "cell_type": "markdown",
   "id": "1592a3b8-cb1b-4ff1-b462-42bb4053c3a8",
   "metadata": {
    "slideshow": {
     "slide_type": "subslide"
    },
    "tags": []
   },
   "source": [
    "For each of these best fit lines, we will call the `plot()` method to add them to the scatter plot:"
   ]
  },
  {
   "cell_type": "code",
   "execution_count": null,
   "id": "004b761f-dfc6-4ee9-9327-e248b0c44a8a",
   "metadata": {},
   "outputs": [],
   "source": [
    "import numpy as np\n",
    "\n",
    "fig, ax = plt.subplots(figsize=(9, 3))\n",
    "ax.plot(x_axis_dates, stackoverflow_monthly.matplotlib, 'ok', label=None, alpha=0.5)\n",
    "\n",
    "for degree, linestyle in zip([1, 2], ['solid', 'dashed']):\n",
    "    poly = np.poly1d(np.polyfit(x_axis_dates, stackoverflow_monthly.matplotlib, degree))\n",
    "    ax.plot(\n",
    "        x_axis_dates, poly(x_axis_dates), label=degree, \n",
    "        linestyle=linestyle, linewidth=2, alpha=0.9\n",
    "    )"
   ]
  },
  {
   "cell_type": "markdown",
   "id": "4a060064-d24d-4218-b9d9-9ff00c81a867",
   "metadata": {
    "slideshow": {
     "slide_type": "fragment"
    },
    "tags": []
   },
   "source": [
    "*Tip: We also specified `linestyle` to differentiate between the lines and `linewidth` to make them thicker. More info on the `zip()` function is available [here](https://realpython.com/python-zip-function/).*"
   ]
  },
  {
   "cell_type": "markdown",
   "id": "5af6c9d6-9919-4a28-87a5-df222d850f52",
   "metadata": {
    "slideshow": {
     "slide_type": "subslide"
    },
    "tags": []
   },
   "source": [
    "Before moving on, let's package up this logic in a function:"
   ]
  },
  {
   "cell_type": "code",
   "execution_count": null,
   "id": "7a7f26c3-87c3-4c66-9c19-b86ba564af51",
   "metadata": {},
   "outputs": [],
   "source": [
    "def add_best_fit_lines(ax, x, y):\n",
    "    for degree, linestyle in zip([1, 2], ['solid', 'dashed']):\n",
    "        poly = np.poly1d(np.polyfit(x, y, degree))\n",
    "        ax.plot(\n",
    "            x, poly(x), label=degree, \n",
    "            linestyle=linestyle, linewidth=2, alpha=0.9\n",
    "        )\n",
    "    return ax"
   ]
  },
  {
   "cell_type": "markdown",
   "id": "5f135ebb-8fbd-4c9d-9a1f-bfd59108e9ab",
   "metadata": {
    "slideshow": {
     "slide_type": "subslide"
    },
    "tags": []
   },
   "source": [
    "#### 4. Label the axes, add a legend, and despine.\n",
    "\n",
    "Next, we need to add a legend so we can tell the best fit lines apart. Now is also a good time to label our axes, give our plot a title, and adjust the limits of both the x- and y-axis (`xlim`/`ylim`). Here, we define a function that will add all of this to our plot and use the first date in the data as the start of the x-axis (we will pass this in as `xmin`):"
   ]
  },
  {
   "cell_type": "code",
   "execution_count": null,
   "id": "570fffca-704d-4da3-a488-7da97d1fd5c7",
   "metadata": {
    "tags": []
   },
   "outputs": [],
   "source": [
    "def add_labels(ax, xmin):\n",
    "    ax.set(\n",
    "        xlabel='creation date', ylabel='total questions',\n",
    "        xlim=(xmin, None), ylim=(0, None),\n",
    "        title='Matplotlib Questions per Month\\n(since the creation of Stack Overflow)'\n",
    "    )\n",
    "    ax.legend(title='degree') # add legend and give it a title\n",
    "    return ax"
   ]
  },
  {
   "cell_type": "markdown",
   "id": "647887de-e5e4-43e9-a42e-ba962c1fed07",
   "metadata": {
    "slideshow": {
     "slide_type": "subslide"
    },
    "tags": []
   },
   "source": [
    "Let's call this after the plotting code we built up so far and also despine our plot:"
   ]
  },
  {
   "cell_type": "code",
   "execution_count": null,
   "id": "f5f7dea9-29a1-434e-8b8a-aa25b478ca43",
   "metadata": {
    "tags": []
   },
   "outputs": [],
   "source": [
    "fig, ax = plt.subplots(figsize=(9, 3))\n",
    "ax.plot(x_axis_dates, stackoverflow_monthly.matplotlib, 'ok', label=None, alpha=0.5)\n",
    "\n",
    "add_best_fit_lines(ax, x_axis_dates, stackoverflow_monthly.matplotlib)\n",
    "\n",
    "add_labels(ax, x_axis_dates[0])\n",
    "despine(ax)"
   ]
  },
  {
   "cell_type": "markdown",
   "id": "a56791a0-678c-4327-b5b7-e4d4d6552b75",
   "metadata": {
    "slideshow": {
     "slide_type": "subslide"
    },
    "tags": []
   },
   "source": [
    "####  5. Format both the x- and y-axis tick labels.\n",
    "\n",
    "All that remains now is to clean up the tick labels on the axes: the x-axis should have human-readable dates, and the y-axis can be improved by formatting the numbers for readability. For both, we will need to access the `Axis` objects contained in the `Axes` object via the `xaxis`/`yaxis` attribute:"
   ]
  },
  {
   "cell_type": "markdown",
   "id": "ef43da6e-fc60-4e3f-8b76-3ba097eacf72",
   "metadata": {
    "tags": []
   },
   "source": [
    "```python\n",
    "ax.xaxis # access the x-axis\n",
    "ax.yaxis # access the y-axis\n",
    "```"
   ]
  },
  {
   "cell_type": "markdown",
   "id": "ecdd0f43-9e33-46e1-a9c0-4feaa42809bb",
   "metadata": {
    "slideshow": {
     "slide_type": "subslide"
    },
    "tags": []
   },
   "source": [
    "From there, we will use two methods to customize the *major* tick labels (as opposed to *minor*, which our plot isn't currently showing). We call the `set_major_locator()` method to adjust where the ticks are located, and the `set_major_formatter()` to adjust the format of the tick labels. For the x-axis, we will place ticks at 16-month intervals and format the labels as `%b\\n%Y`, which places the month abbreviation above the year. This functionality comes from the `matplotlib.dates` module:"
   ]
  },
  {
   "cell_type": "markdown",
   "id": "5dac178b-16e4-4991-9fb4-86d3e818db2c",
   "metadata": {
    "tags": []
   },
   "source": [
    "```python\n",
    "ax.xaxis.set_major_locator(mdates.MonthLocator(interval=16))\n",
    "ax.xaxis.set_major_formatter(mdates.DateFormatter('%b\\n%Y'))\n",
    "```"
   ]
  },
  {
   "cell_type": "markdown",
   "id": "16c963ae-9880-4117-9d88-a518610d8145",
   "metadata": {
    "slideshow": {
     "slide_type": "subslide"
    },
    "tags": []
   },
   "source": [
    "The `matplotlib.ticker` module contains classes for tick location and formatting for non-dates. Here, we use the `StrMethodFormatter` class to provide a format string just as we would see with the `str.format()` method. This particular format specifies that the labels should be floats with commas as the thousands separator and zero digits after the decimal:"
   ]
  },
  {
   "cell_type": "markdown",
   "id": "e543a4a8-0dca-4926-8753-63ba40a66d1c",
   "metadata": {
    "tags": []
   },
   "source": [
    "```python\n",
    "from matplotlib import ticker\n",
    "\n",
    "ax.yaxis.set_major_formatter(ticker.StrMethodFormatter('{x:,.0f}'))\n",
    "```"
   ]
  },
  {
   "cell_type": "markdown",
   "id": "62fae60a-72ce-4e06-8cc2-92674806b562",
   "metadata": {
    "slideshow": {
     "slide_type": "subslide"
    },
    "tags": []
   },
   "source": [
    "Now, let's put everything together in a function:"
   ]
  },
  {
   "cell_type": "code",
   "execution_count": null,
   "id": "c6b4eb20-58da-4471-813f-20c962c657c0",
   "metadata": {
    "tags": []
   },
   "outputs": [],
   "source": [
    "from matplotlib import ticker\n",
    "\n",
    "def format_axes(ax):\n",
    "    ax.xaxis.set_major_locator(mdates.MonthLocator(interval=16))\n",
    "    ax.xaxis.set_major_formatter(mdates.DateFormatter('%b\\n%Y'))\n",
    "    ax.yaxis.set_major_formatter(ticker.StrMethodFormatter('{x:,.0f}'))\n",
    "    return ax"
   ]
  },
  {
   "cell_type": "markdown",
   "id": "26056f90-5286-4949-8e9a-f140760a14b5",
   "metadata": {
    "slideshow": {
     "slide_type": "fragment"
    },
    "tags": []
   },
   "source": [
    "*Tip: Use `EngFormatter` instead of `StrMethodFormatter` for engineering notation.*"
   ]
  },
  {
   "cell_type": "markdown",
   "id": "3fcaf678-fcb2-4303-b7b7-75c923546efd",
   "metadata": {
    "slideshow": {
     "slide_type": "subslide"
    },
    "tags": []
   },
   "source": [
    "We now have all the pieces for our final visualization:"
   ]
  },
  {
   "cell_type": "code",
   "execution_count": null,
   "id": "316a0cc5-5012-4286-8411-a95f3c58bae8",
   "metadata": {
    "tags": []
   },
   "outputs": [],
   "source": [
    "fig, ax = plt.subplots(figsize=(9, 3))\n",
    "ax.plot(x_axis_dates, stackoverflow_monthly.matplotlib, 'ok', label=None, alpha=0.5)\n",
    "\n",
    "add_best_fit_lines(ax, x_axis_dates, stackoverflow_monthly.matplotlib)\n",
    "\n",
    "add_labels(ax, x_axis_dates[0])\n",
    "despine(ax)\n",
    "format_axes(ax)"
   ]
  },
  {
   "cell_type": "markdown",
   "id": "6fc45cfc-3720-461f-887d-8d4055e8483a",
   "metadata": {
    "slideshow": {
     "slide_type": "slide"
    },
    "tags": []
   },
   "source": [
    "### Exercise 1.1\n",
    "\n",
    "##### Using the data in `weather.csv`, plot the daily average temperature (`TAVG`) for both LA and NYC. Fill in all sections where NYC's daily average temperature was higher than LA's in 2020."
   ]
  },
  {
   "cell_type": "code",
   "execution_count": null,
   "id": "a9be6be0-6c7c-4787-9b56-e3fc5f61fea0",
   "metadata": {},
   "outputs": [],
   "source": [
    "# Complete exercise 1.1 "
   ]
  },
  {
   "cell_type": "code",
   "execution_count": null,
   "id": "a6fae7e0-2452-42de-b737-2cc58c72f464",
   "metadata": {},
   "outputs": [],
   "source": [
    "# TIP: the `despine()` function is available in utils.py"
   ]
  },
  {
   "cell_type": "markdown",
   "id": "18e2d250-b620-4819-9884-84833d6fce1b",
   "metadata": {
    "slideshow": {
     "slide_type": "slide"
    },
    "tags": []
   },
   "source": [
    "### Area plot\n",
    "\n",
    "We have just been using the Matplotlib questions time series, but it's also interesting to look at trends for multiple libraries. Since the libraries in this dataset vary in age, popularity, and number of Stack Overflow questions, a good option to view many at once is an area plot. This will give us an idea of both the overall trend for these types of libraries and the libraries themselves. Let's start by subsetting our daily Stack Overflow questions data to the top four libraries by number of questions:"
   ]
  },
  {
   "cell_type": "code",
   "execution_count": null,
   "id": "c284d4f8-9eea-431f-8564-ee9a3a078aa4",
   "metadata": {},
   "outputs": [],
   "source": [
    "subset = stackoverflow_daily.sum().nlargest(4)\n",
    "top_libraries_monthly = stackoverflow_monthly.reindex(columns=subset.index)\n",
    "top_libraries_monthly.head()"
   ]
  },
  {
   "cell_type": "markdown",
   "id": "9ece2acf-b476-4e0c-b6de-b6c32d043a5b",
   "metadata": {
    "slideshow": {
     "slide_type": "subslide"
    },
    "tags": []
   },
   "source": [
    "Now, we can build up our plot. Once again, we will break this down in steps:\n",
    "1. Create the area plot.\n",
    "2. Label and format the axes, provide a title, and despine the plot.\n",
    "3. Add annotations."
   ]
  },
  {
   "cell_type": "markdown",
   "id": "b56734de-d872-4bfd-a6a1-5d32731cf68d",
   "metadata": {
    "slideshow": {
     "slide_type": "subslide"
    },
    "tags": []
   },
   "source": [
    "#### 1. Create the area plot.\n",
    "\n",
    "First, we use `stackplot()` to create the area plot as our starting point. Note that we are using Matplotlib dates from the start rather than switching when we add the annotations:"
   ]
  },
  {
   "cell_type": "code",
   "execution_count": null,
   "id": "67884b7b-2839-4b8e-bbb8-32601b9731be",
   "metadata": {
    "tags": []
   },
   "outputs": [],
   "source": [
    "fig, ax = plt.subplots(figsize=(12, 3))\n",
    "ax.stackplot(\n",
    "    mdates.date2num(top_libraries_monthly.index),\n",
    "    top_libraries_monthly.to_numpy().T, # each element is a library's time series\n",
    "    labels=top_libraries_monthly.columns\n",
    ")"
   ]
  },
  {
   "cell_type": "markdown",
   "id": "b189fb4c-3820-4a7e-b812-78a69e34aeb6",
   "metadata": {
    "slideshow": {
     "slide_type": "subslide"
    },
    "tags": []
   },
   "source": [
    "#### 2. Label and format the axes, provide a title, and despine the plot.\n",
    "Next, we will handle labels and formatting before working on the annotations. This should look familiar from previous examples:"
   ]
  },
  {
   "cell_type": "code",
   "execution_count": null,
   "id": "94000c36-9516-4559-8a37-a6ce81e967d5",
   "metadata": {
    "tags": []
   },
   "outputs": [],
   "source": [
    "fig, ax = plt.subplots(figsize=(12, 3))\n",
    "ax.stackplot(\n",
    "    mdates.date2num(top_libraries_monthly.index), top_libraries_monthly.to_numpy().T, \n",
    "    labels=top_libraries_monthly.columns\n",
    ")\n",
    "ax.set(xlabel='', ylabel='tagged questions', title='Stack Overflow Questions per Month')\n",
    "ax.xaxis.set_major_formatter(mdates.DateFormatter('%Y'))\n",
    "ax.yaxis.set_major_formatter(ticker.EngFormatter())\n",
    "despine(ax)"
   ]
  },
  {
   "cell_type": "markdown",
   "id": "5b201b81-5ef2-43ac-9cbd-c22fccf5cf40",
   "metadata": {
    "slideshow": {
     "slide_type": "subslide"
    },
    "tags": []
   },
   "source": [
    "This will be the basis of a couple of visualizations we do in this section, so let's make a function for what we have so far:"
   ]
  },
  {
   "cell_type": "code",
   "execution_count": null,
   "id": "cfc25dfa-60e9-45e2-9722-b02ec9bfe5d7",
   "metadata": {},
   "outputs": [],
   "source": [
    "def area_plot(data):\n",
    "    fig, ax = plt.subplots(figsize=(12, 3))\n",
    "    ax.stackplot(\n",
    "        mdates.date2num(data.index),\n",
    "        data.to_numpy().T, \n",
    "        labels=data.columns\n",
    "    )\n",
    "    ax.set(\n",
    "        xlabel='', ylabel='tagged questions',\n",
    "        title='Stack Overflow Questions per Month'\n",
    "    )\n",
    "    ax.xaxis.set_major_formatter(mdates.DateFormatter('%Y'))\n",
    "    ax.yaxis.set_major_formatter(ticker.EngFormatter())\n",
    "    despine(ax)\n",
    "    return ax"
   ]
  },
  {
   "cell_type": "markdown",
   "id": "20941cac-059a-4968-afbb-fe697cd0e165",
   "metadata": {
    "slideshow": {
     "slide_type": "subslide"
    },
    "tags": []
   },
   "source": [
    "#### 3. Add annotations.\n",
    "Rather than use a legend for this plot, we are going to use annotations to label each area and provide the median value in 2021. To create annotations, we use the `annotate()` method with the following arguments:\n",
    "\n",
    "- The first argument (`text`) is the annotation text as a string.\n",
    "- The `xy` argument is a tuple of the coordinates for the data point that we are annotating.\n",
    "- The `xytext` argument is a tuple of the coordinates where we want to place the annotation text.\n",
    "- When providing `xytext`, we can optionally provide `arrowprops`, which defines the style to use for the arrow pointing from `xytext` to `xy`.\n",
    "- We can also customize alignment of the text horizontally (`ha`) and vertically (`va`)."
   ]
  },
  {
   "cell_type": "markdown",
   "id": "fc318af2-b139-4cda-bde9-05ba0e8ade85",
   "metadata": {
    "slideshow": {
     "slide_type": "subslide"
    },
    "tags": []
   },
   "source": [
    "We will annotate pandas, NumPy, and Matplotlib alongside their respective areas, but Seaborn will be moved higher up and to the right using an arrow to point to its area (since it is thin). Once again, we will place this logic in a function for reuse later:"
   ]
  },
  {
   "cell_type": "code",
   "execution_count": null,
   "id": "01a981d7-b3bf-4aed-87ba-9a4c23f9dadf",
   "metadata": {},
   "outputs": [],
   "source": [
    "def annotate(ax, data):\n",
    "    total = 0\n",
    "    for library in data.columns:\n",
    "        last = data.last('1D')[library]\n",
    "        last_day, last_value = last.index[0], last.iat[0]\n",
    "        if library in ['pandas', 'numpy', 'matplotlib']:\n",
    "            kwargs = {}\n",
    "        else:\n",
    "            kwargs = dict(\n",
    "                xytext=(last_day + pd.Timedelta(days=20), (last_value + total) * 1.1),\n",
    "                arrowprops=dict(arrowstyle='->')\n",
    "            )\n",
    "\n",
    "        ax.annotate(\n",
    "            f' {library}: {data.loc[\"2021\", library].median():,.0f}',\n",
    "            xy=(last_day, last_value/2 + total), ha='left', va='center', **kwargs\n",
    "        )\n",
    "        total += last_value\n",
    "    return ax"
   ]
  },
  {
   "cell_type": "markdown",
   "id": "b238664b-c1a0-4d3c-b2e6-b91747dba342",
   "metadata": {
    "slideshow": {
     "slide_type": "subslide"
    },
    "tags": []
   },
   "source": [
    "Now, let's see what our plot looks like so far:"
   ]
  },
  {
   "cell_type": "code",
   "execution_count": null,
   "id": "c4e089bf-806a-4d48-87ad-cd76fb5de3f1",
   "metadata": {
    "tags": []
   },
   "outputs": [],
   "source": [
    "ax = area_plot(top_libraries_monthly)\n",
    "annotate(ax, top_libraries_monthly)"
   ]
  },
  {
   "cell_type": "markdown",
   "id": "0255e9f4-3306-4879-817a-f4b191fd658f",
   "metadata": {
    "slideshow": {
     "slide_type": "fragment"
    },
    "tags": []
   },
   "source": [
    "*Tip: You can use $LaTeX$ symbols when providing text (annotations, titles, etc.) to Matplotlib commands, e.g., using `r'$\\alpha$'` will be rendered as $\\alpha$. See [this](https://matplotlib.org/stable/tutorials/text/mathtext.html) page in the documentation for more information.*"
   ]
  },
  {
   "cell_type": "markdown",
   "id": "c4e1bccb-3168-4aa7-8e87-63be9290596f",
   "metadata": {
    "slideshow": {
     "slide_type": "subslide"
    },
    "tags": []
   },
   "source": [
    "Before we move on to our next plot, which builds upon this one, let's update our `area_plot()` function to include the call to the `annotate()` function:"
   ]
  },
  {
   "cell_type": "code",
   "execution_count": null,
   "id": "ab9e55ba-c1a0-4dee-9198-22f0756c298e",
   "metadata": {},
   "outputs": [],
   "source": [
    "def area_plot(data):\n",
    "    fig, ax = plt.subplots(figsize=(12, 3))\n",
    "    ax.stackplot(\n",
    "        mdates.date2num(data.index),\n",
    "        data.to_numpy().T, \n",
    "        labels=data.columns\n",
    "    )\n",
    "    ax.set(\n",
    "        xlabel='', ylabel='tagged questions',\n",
    "        title='Stack Overflow Questions per Month'\n",
    "    )\n",
    "    ax.xaxis.set_major_formatter(mdates.DateFormatter('%Y'))\n",
    "    ax.yaxis.set_major_formatter(ticker.EngFormatter())\n",
    "    despine(ax)\n",
    "    annotate(ax, data)\n",
    "    return ax"
   ]
  },
  {
   "cell_type": "markdown",
   "id": "3f585df7-7293-4d97-ab2c-216506bfed72",
   "metadata": {
    "slideshow": {
     "slide_type": "subslide"
    },
    "tags": []
   },
   "source": [
    "#### More Annotations\n",
    "The Stack Overflow community is very active, and you will frequently see old questions updated with new answers reflecting the latest solutions. The dataset we have been working with contains several examples of this: Seaborn makes some plotting tasks a lot easier than Matplotlib, so some of the Stack Overflow questions that are currently tagged \"seaborn\" were originally posted before Seaborn's first release ([v0.1](https://github.com/mwaskom/seaborn/releases/tag/v0.1)) on October 28, 2013. See the [Color by Column Values in Matplotlib](https://stackoverflow.com/questions/14885895/color-by-column-values-in-matplotlib) question for an example."
   ]
  },
  {
   "cell_type": "markdown",
   "id": "beb26883-cac3-4146-9e28-f2052cb1858a",
   "metadata": {
    "slideshow": {
     "slide_type": "fragment"
    },
    "tags": []
   },
   "source": [
    "Let's use reference lines and a shaded region to highlight this section on the area plot."
   ]
  },
  {
   "cell_type": "markdown",
   "id": "c3672a94-102c-4f8b-b657-efc6716b11df",
   "metadata": {
    "slideshow": {
     "slide_type": "subslide"
    },
    "tags": []
   },
   "source": [
    "First, we will add a dashed vertical line for Seaborn's first release (October 28, 2013) using the `axvline()` method:"
   ]
  },
  {
   "cell_type": "code",
   "execution_count": null,
   "id": "faf6069e-902a-4636-82a4-7514b2bc4d2f",
   "metadata": {
    "tags": []
   },
   "outputs": [],
   "source": [
    "import datetime as dt\n",
    "\n",
    "ax = area_plot(top_libraries_monthly)\n",
    "    \n",
    "# mark when seaborn was created\n",
    "seaborn_released = dt.date(2013, 10, 28)\n",
    "ax.axvline(seaborn_released, ymax=0.6, color='gray', linestyle='dashed')\n",
    "ax.annotate('seaborn v0.1', xy=(seaborn_released, 4750), rotation=-90, va='top')"
   ]
  },
  {
   "cell_type": "markdown",
   "id": "67762adb-1d4a-470f-95f1-d17e70ebcd3e",
   "metadata": {
    "slideshow": {
     "slide_type": "subslide"
    },
    "tags": []
   },
   "source": [
    "Next, we'll make an additional vertical line for the oldest question that was retroactively tagged \"seaborn\":"
   ]
  },
  {
   "cell_type": "code",
   "execution_count": null,
   "id": "055d11ba-2b7f-452a-956a-6efb30fe9bde",
   "metadata": {
    "tags": []
   },
   "outputs": [],
   "source": [
    "ax = area_plot(top_libraries_monthly)\n",
    "\n",
    "seaborn_released = dt.date(2013, 10, 28)\n",
    "ax.axvline(seaborn_released, ymax=0.6, color='gray', linestyle='dashed')\n",
    "ax.annotate('seaborn v0.1', xy=(seaborn_released, 4750), rotation=-90, va='top')\n",
    "\n",
    "# oldest question tagged \"seaborn\"\n",
    "first_seaborn_qs = top_libraries_monthly.query('seaborn >= 1')\\\n",
    "    .first('1D').index[0].to_pydatetime().date()\n",
    "ax.axvline(first_seaborn_qs, ymax=0.6, color='gray', linestyle='dashed')"
   ]
  },
  {
   "cell_type": "markdown",
   "id": "e249684c-05e9-4e2b-a397-fbdb7c488510",
   "metadata": {
    "slideshow": {
     "slide_type": "subslide"
    },
    "tags": []
   },
   "source": [
    "Let's package this reference line logic up in a function before looking at how to shade the region between them:"
   ]
  },
  {
   "cell_type": "code",
   "execution_count": null,
   "id": "013349c4-1a22-439c-af9e-136e853bce75",
   "metadata": {},
   "outputs": [],
   "source": [
    "def add_reflines(ax, data):\n",
    "    seaborn_released = dt.date(2013, 10, 28)\n",
    "    ax.axvline(seaborn_released, ymax=0.6, color='gray', linestyle='dashed')\n",
    "    ax.annotate('seaborn v0.1', xy=(seaborn_released, 4750), rotation=-90, va='top')\n",
    "\n",
    "    first_seaborn_qs = \\\n",
    "        data.query('seaborn >= 1').first('1D').index[0].to_pydatetime().date()\n",
    "    ax.axvline(first_seaborn_qs, ymax=0.6, color='gray', linestyle='dashed')\n",
    "    return ax"
   ]
  },
  {
   "cell_type": "markdown",
   "id": "875a72de-c24f-41c1-9eea-772a599abbcd",
   "metadata": {
    "slideshow": {
     "slide_type": "subslide"
    },
    "tags": []
   },
   "source": [
    "Finally, we use the `axvspan()` method to shade in the region between the lines:"
   ]
  },
  {
   "cell_type": "code",
   "execution_count": null,
   "id": "97c873c9-f3c1-41f7-a77c-cbce948a4de0",
   "metadata": {
    "tags": []
   },
   "outputs": [],
   "source": [
    "ax = area_plot(top_libraries_monthly)\n",
    "add_reflines(ax, top_libraries_monthly)\n",
    "\n",
    "# shade the region of posts that were retroactively tagged \"seaborn\"\n",
    "ax.axvspan(\n",
    "    ymax=0.6, xmin=mdates.date2num(first_seaborn_qs),\n",
    "    xmax=mdates.date2num(seaborn_released), color='gray', alpha=0.25\n",
    ")\n",
    "middle = (seaborn_released - first_seaborn_qs)/2 + first_seaborn_qs\n",
    "ax.annotate(\n",
    "    'posts retroactively\\ntagged \"seaborn\"', \n",
    "    xy=(mdates.date2num(middle), 3500), \n",
    "    va='top', ha='center'\n",
    ")"
   ]
  },
  {
   "cell_type": "markdown",
   "id": "8a887599-7a43-4c28-a871-b3abc5da41f2",
   "metadata": {
    "slideshow": {
     "slide_type": "slide"
    },
    "tags": []
   },
   "source": [
    "### Bar plot\n",
    "\n",
    "The upper left region of the area plot we just worked on has a lot of whitespace. We can use this space to provide additional information with an inset plot. Let's work on adding an inset bar plot that shows total questions per library:\n",
    "\n",
    "1. Add the inset `Axes` object to the `Figure` object.\n",
    "2. Create the horizontal bar plot.\n",
    "3. Label and format the plot."
   ]
  },
  {
   "cell_type": "markdown",
   "id": "74336f3d-b142-42aa-9ced-541aaf40ad4c",
   "metadata": {
    "slideshow": {
     "slide_type": "subslide"
    },
    "tags": []
   },
   "source": [
    "#### 1. Add the inset `Axes` object to the `Figure` object.\n",
    "\n",
    "First, we need to modify our `area_plot()` function to return the `Figure` object as well:"
   ]
  },
  {
   "cell_type": "code",
   "execution_count": null,
   "id": "fa13157b-d69d-4f65-abca-947237b01ce7",
   "metadata": {},
   "outputs": [],
   "source": [
    "def area_plot(data):\n",
    "    fig, ax = plt.subplots(figsize=(12, 3))\n",
    "    ax.stackplot(\n",
    "        mdates.date2num(data.index),\n",
    "        data.to_numpy().T, \n",
    "        labels=data.columns\n",
    "    )\n",
    "    ax.set(\n",
    "        xlabel='', ylabel='tagged questions',\n",
    "        title='Stack Overflow Questions per Month'\n",
    "    )\n",
    "    ax.xaxis.set_major_formatter(mdates.DateFormatter('%Y'))\n",
    "    ax.yaxis.set_major_formatter(ticker.EngFormatter())\n",
    "    despine(ax)\n",
    "    annotate(ax, data)\n",
    "    return fig, ax"
   ]
  },
  {
   "cell_type": "markdown",
   "id": "cc432ef1-a32b-4227-bcf7-c6c844816e56",
   "metadata": {
    "slideshow": {
     "slide_type": "subslide"
    },
    "tags": []
   },
   "source": [
    "Now, we can call our updated `area_plot()` function and use the `Figure` object that it returns to add the inset plot via the `add_axes()` method. This method receives the dimensions as a sequence of 4 values, represented as percentages of `Figure` dimensions:\n",
    "1. `left`: Offset from the left edge of the `Figure` (i.e., the `x`).\n",
    "2. `bottom`: Offset from the bottom edge of the `Figure` (i.e., the `y`).\n",
    "3. `width`: The width of the inset.\n",
    "4. `height`: The height of the inset."
   ]
  },
  {
   "cell_type": "code",
   "execution_count": null,
   "id": "3501dd5b-d7af-48c6-8527-ee90bcba750e",
   "metadata": {
    "slideshow": {
     "slide_type": "subslide"
    },
    "tags": []
   },
   "outputs": [],
   "source": [
    "fig, ax = area_plot(top_libraries_monthly)\n",
    "inset_ax = fig.add_axes([0.2, 0.6, 0.2, 0.2])"
   ]
  },
  {
   "cell_type": "markdown",
   "id": "7625627d-a201-41c5-92d8-7d2c1a678bef",
   "metadata": {
    "slideshow": {
     "slide_type": "fragment"
    },
    "tags": []
   },
   "source": [
    "*Tip: Check out the [axes_grid1 toolkit](https://matplotlib.org/stable/tutorials/toolkits/axes_grid.html#insetlocator) if you want the inset to contain a \"zoomed in\" version of the data.*"
   ]
  },
  {
   "cell_type": "markdown",
   "id": "abdbc249-da4c-4c53-ac1b-6c521b42aed7",
   "metadata": {
    "slideshow": {
     "slide_type": "subslide"
    },
    "tags": []
   },
   "source": [
    "#### 2. Create the horizontal bar plot.\n",
    "\n",
    "Next, we use the `barh()` method to add horizontal bars to the inset. These bars will represent total questions for each of the libraries in the area plot, so we will also need to make sure the colors align. For this, we use the `collections` attribute to access each of the sections of the area plot and grab their colors with the `get_facecolor()` method:"
   ]
  },
  {
   "cell_type": "code",
   "execution_count": null,
   "id": "566b3e3d-c2e8-4711-bb68-022fcf31bddd",
   "metadata": {},
   "outputs": [],
   "source": [
    "fig, ax = area_plot(top_libraries_monthly)\n",
    "inset_ax = fig.add_axes([0.2, 0.6, 0.2, 0.2])\n",
    "colors = {area.get_label(): area.get_facecolor() for area in ax.collections}\n",
    "\n",
    "# populate the inset with a bar plot of total questions\n",
    "total_qs = top_libraries_monthly.sum()\n",
    "inset_ax.barh(\n",
    "    total_qs.index, total_qs.to_numpy(),\n",
    "    color=[colors[label] for label in total_qs.index]\n",
    ")\n",
    "inset_ax.invert_yaxis() # sort bars in descending order"
   ]
  },
  {
   "cell_type": "markdown",
   "id": "d18c2c19-23c1-4401-ad32-cf9e5eb135e6",
   "metadata": {
    "slideshow": {
     "slide_type": "subslide"
    },
    "tags": []
   },
   "source": [
    "#### 3. Label and format the plot.\n",
    "Labeling and formatting the inset works the same as we've seen before:"
   ]
  },
  {
   "cell_type": "code",
   "execution_count": null,
   "id": "c1d65696-b8ab-42bf-a64f-d1c558defce3",
   "metadata": {},
   "outputs": [],
   "source": [
    "fig, ax = area_plot(top_libraries_monthly)\n",
    "inset_ax = fig.add_axes([0.2, 0.6, 0.2, 0.2])\n",
    "colors = {area.get_label(): area.get_facecolor() for area in ax.collections}\n",
    "\n",
    "total_qs = top_libraries_monthly.sum()\n",
    "inset_ax.barh(\n",
    "    total_qs.index, total_qs.to_numpy(), \n",
    "    color=[colors[label] for label in total_qs.index]\n",
    ")\n",
    "inset_ax.invert_yaxis()\n",
    "despine(inset_ax)\n",
    "inset_ax.xaxis.set_major_formatter(ticker.EngFormatter())\n",
    "inset_ax.set_xlabel('total questions')"
   ]
  },
  {
   "cell_type": "markdown",
   "id": "9214159a-368b-4d9e-835d-b99363494b7e",
   "metadata": {
    "slideshow": {
     "slide_type": "subslide"
    },
    "tags": []
   },
   "source": [
    "Final remarks on this example:\n",
    "\n",
    "- More complicated subplot layouts can be created with [GridSpec](https://matplotlib.org/stable/gallery/subplots_axes_and_figures/gridspec_multicolumn.html#sphx-glr-gallery-subplots-axes-and-figures-gridspec-multicolumn-py) or the [Figure.subplot_mosaic()](https://matplotlib.org/stable/api/_as_gen/matplotlib.pyplot.subplot_mosaic.html) method, which was added in v3.3 to make it easier to create complex layouts.\n",
    "- We used both dictionary and list comprehensions here &ndash; check out [this article](https://www.geeksforgeeks.org/comprehensions-in-python/) for more information on comprehensions in Python."
   ]
  },
  {
   "cell_type": "markdown",
   "id": "ccfe6569-30b3-44ec-90fe-9ad6438388b0",
   "metadata": {
    "slideshow": {
     "slide_type": "subslide"
    },
    "tags": []
   },
   "source": [
    "#### Annotating bars\n",
    "\n",
    "Our inset only shows data for four of the libraries in the Stack Overflow dataset to match the area plot. Due to the smaller scale of the other libraries, it didn't make sense to include them in the area plot; however, we can visualize total questions for each of them with a bar plot if we use a log scale for the x-axis. This time our bar plot won't just be an inset, and we will explore how to annotate the bars."
   ]
  },
  {
   "cell_type": "markdown",
   "id": "cabf5019-92e9-43a8-9b39-2ecfdcc7cdc8",
   "metadata": {
    "slideshow": {
     "slide_type": "subslide"
    },
    "tags": []
   },
   "source": [
    "Our data looks like this:"
   ]
  },
  {
   "cell_type": "code",
   "execution_count": null,
   "id": "6c2e1b66-bd8a-411e-b05c-739a58d91060",
   "metadata": {},
   "outputs": [],
   "source": [
    "questions_per_library = pd.read_csv(\n",
    "    '../data/stackoverflow.zip', parse_dates=True, index_col='creation_date'\n",
    ").loc[:,'pandas':'bokeh'].sum().sort_values()\n",
    "questions_per_library"
   ]
  },
  {
   "cell_type": "markdown",
   "id": "5f341b50-d07c-4760-b337-712b67f52a68",
   "metadata": {
    "slideshow": {
     "slide_type": "subslide"
    },
    "tags": []
   },
   "source": [
    "We will work through the following steps to create this visualization:\n",
    "\n",
    "1. Create the bar plot.\n",
    "2. Label, format, and apply a log scale to the plot.\n",
    "3. Annotate each of the bars."
   ]
  },
  {
   "cell_type": "markdown",
   "id": "b80be061-f70e-4c8d-a5bc-33775dd5a339",
   "metadata": {
    "slideshow": {
     "slide_type": "subslide"
    },
    "tags": []
   },
   "source": [
    "#### 1. Create the bar plot.\n",
    "We once again use the `barh()` method to create horizontal bars; however, note that the `bar()` method can be used to create vertical bars:"
   ]
  },
  {
   "cell_type": "code",
   "execution_count": null,
   "id": "190e1238-a534-43bc-9b65-7cc07dc421b9",
   "metadata": {
    "tags": []
   },
   "outputs": [],
   "source": [
    "fig, ax = plt.subplots(figsize=(7, 4))\n",
    "ax.barh(questions_per_library.index, questions_per_library.to_numpy())"
   ]
  },
  {
   "cell_type": "markdown",
   "id": "1ddacd07-25f4-42e6-aa72-dd4b5dd9a297",
   "metadata": {
    "slideshow": {
     "slide_type": "subslide"
    },
    "tags": []
   },
   "source": [
    "#### 2. Label, format, and apply a log scale to the plot.\n",
    "To change the scale of an axis, we specify a value for `xscale`/`yscale` or pass in a value to the `set_xscale()`/`set_yscale()` method:\n",
    "\n",
    "```python\n",
    "ax.set_xscale('log')\n",
    "ax.set(xscale='log')\n",
    "```"
   ]
  },
  {
   "cell_type": "markdown",
   "id": "be9ecd84-322d-46a0-bac3-8a066242face",
   "metadata": {
    "slideshow": {
     "slide_type": "subslide"
    },
    "tags": []
   },
   "source": [
    "Now, we can actually see all the bars:"
   ]
  },
  {
   "cell_type": "code",
   "execution_count": null,
   "id": "da59f1ed-5463-4164-a4be-3449779de85f",
   "metadata": {
    "tags": []
   },
   "outputs": [],
   "source": [
    "fig, ax = plt.subplots(figsize=(7, 4))\n",
    "ax.barh(questions_per_library.index, questions_per_library.to_numpy())\n",
    "ax.set(xlabel='total questions', xscale='log')\n",
    "despine(ax)"
   ]
  },
  {
   "cell_type": "markdown",
   "id": "58b89dba-f698-4042-b176-06bc23c11283",
   "metadata": {
    "slideshow": {
     "slide_type": "subslide"
    },
    "tags": []
   },
   "source": [
    "#### 3. Annotate each of the bars.\n",
    "\n",
    "To annotate the bars, we need to grab them off the `Axes` object, similar to how we grabbed the colors from the area plot. To access the bars, we use the `patches` attribute. Here, we write a function to iterate over each of these patches and annotate each bar with the total number of questions for that library:"
   ]
  },
  {
   "cell_type": "code",
   "execution_count": null,
   "id": "2797958c-9c7c-4ed7-8e7b-5f98c4089401",
   "metadata": {},
   "outputs": [],
   "source": [
    "def annotate_bars(ax):\n",
    "    for bar in ax.patches:\n",
    "        x, y = bar.get_xy()\n",
    "        ax.text(\n",
    "            x + bar.get_width(), y + bar.get_height()/2, f'{bar.get_width():,d} ',\n",
    "            va='center', ha='right', color='white'\n",
    "        )\n",
    "    return ax"
   ]
  },
  {
   "cell_type": "markdown",
   "id": "91aa4866-014d-427c-bf31-052214690ad9",
   "metadata": {
    "slideshow": {
     "slide_type": "subslide"
    },
    "tags": []
   },
   "source": [
    "Putting everything together, our final visualization looks like this:"
   ]
  },
  {
   "cell_type": "code",
   "execution_count": null,
   "id": "38caf0f1-809b-424d-9b07-fcc2955717b0",
   "metadata": {
    "tags": []
   },
   "outputs": [],
   "source": [
    "fig, ax = plt.subplots(figsize=(7, 4))\n",
    "ax.barh(questions_per_library.index, questions_per_library.to_numpy())\n",
    "ax.set(xlabel='total questions', xscale='log')\n",
    "despine(ax)\n",
    "annotate_bars(ax)"
   ]
  },
  {
   "cell_type": "markdown",
   "id": "10351d97-d598-407c-a47c-ba1f1744565c",
   "metadata": {
    "slideshow": {
     "slide_type": "slide"
    },
    "tags": []
   },
   "source": [
    "### Exercise 1.2\n",
    "\n",
    "##### Using the data in `weather.csv`, make a vertical bar plot showing total monthly precipitation (`PRCP`) in Seattle. Annotate the bars."
   ]
  },
  {
   "cell_type": "code",
   "execution_count": null,
   "id": "ba4a5388-f392-4d65-a8cc-31d4a149c909",
   "metadata": {
    "tags": []
   },
   "outputs": [],
   "source": [
    "# Complete exercise 1.2 "
   ]
  },
  {
   "cell_type": "code",
   "execution_count": null,
   "id": "cb9fc8c0-4c94-4db7-a0bf-8865d763bcf5",
   "metadata": {},
   "outputs": [],
   "source": [
    "# TIP: the `despine()` function is available in utils.py"
   ]
  },
  {
   "cell_type": "markdown",
   "id": "f16a8828-5dde-4419-9d13-16e52e7bc82b",
   "metadata": {
    "slideshow": {
     "slide_type": "slide"
    },
    "tags": []
   },
   "source": [
    "### Stacked bar plot\n",
    "For the next few examples, we will be creating a stacked bar plot showing co-occurrences of the library tags. This gives us an idea of relationships between the libraries and how people use them. Converting the original dataset into the adjacency matrix we will need for these visualizations is not important for this training, so we will just read in a file with the adjacency matrix; however, those interested in the code behind this can find it in the [stackoverflow.ipynb](../data/collection/stackoverflow.ipynb) notebook."
   ]
  },
  {
   "cell_type": "markdown",
   "id": "091f81db-7844-4862-80f2-2dbc7e41e979",
   "metadata": {
    "slideshow": {
     "slide_type": "subslide"
    },
    "tags": []
   },
   "source": [
    "Our data looks as follows. Here, we see that the largest co-occurrence with **hvplot** is **holoviews** followed by **bokeh**."
   ]
  },
  {
   "cell_type": "code",
   "execution_count": null,
   "id": "2fd826f6-3925-49c4-8110-0b08f127e484",
   "metadata": {},
   "outputs": [],
   "source": [
    "co_occur = pd.read_csv(\n",
    "    '../data/stackoverflow_tag_co_occurrences.csv',\n",
    "    index_col='library'\n",
    ")\n",
    "co_occur"
   ]
  },
  {
   "cell_type": "markdown",
   "id": "a75d27e8-90fc-4785-8d31-0e2eefeb6829",
   "metadata": {
    "slideshow": {
     "slide_type": "subslide"
    },
    "tags": []
   },
   "source": [
    "Note that the diagonal contains all zeros because we also want to understand what percentage of questions per library were also tagged with another library in this dataset. For example, most questions tagged with **hvplot** or **geoviews** were also tagged with another library in our list, but questions tagged with **pandas** were only tagged with another library 12.3% of the time:"
   ]
  },
  {
   "cell_type": "code",
   "execution_count": null,
   "id": "e0e9b5bf-6fb9-43ce-8499-cfd57e81f033",
   "metadata": {},
   "outputs": [],
   "source": [
    "co_occur.sum(axis=1)"
   ]
  },
  {
   "cell_type": "markdown",
   "id": "1b103067-0f1c-49bb-b382-b9e3ae37aab5",
   "metadata": {
    "slideshow": {
     "slide_type": "subslide"
    },
    "tags": []
   },
   "source": [
    "In this example, we will also see another way of formatting an axis with `ticker` and learn how to customize colors. Let's work through the following steps:\n",
    "1. Create the stacked bar plot.\n",
    "2. Add the legend.\n",
    "3. Label and format the plot.\n",
    "4. Annotate the bars.\n",
    "5. Change the color scheme."
   ]
  },
  {
   "cell_type": "markdown",
   "id": "d8ed3958-e981-4c3c-a1f9-03bba17b6d3b",
   "metadata": {
    "slideshow": {
     "slide_type": "subslide"
    },
    "tags": []
   },
   "source": [
    "#### 1. Create the stacked bar plot.\n",
    "To make our stacked bar plot, we can still use the `barh()` method; however, we have to make multiple calls to it, each time specifying where the starting point should be (i.e., the end of the previous portion of the bar). We will package this logic up in a function:"
   ]
  },
  {
   "cell_type": "code",
   "execution_count": null,
   "id": "12786ab8-cf57-45e6-acf6-8738e056d78d",
   "metadata": {},
   "outputs": [],
   "source": [
    "def stacked_bars(data):\n",
    "    fig, ax = plt.subplots(figsize=(6, 3))\n",
    "    libraries = data.index\n",
    "\n",
    "    last = 0\n",
    "    for library in libraries:\n",
    "        co_occurring_library = data[library]\n",
    "        ax.barh(libraries, co_occurring_library, label=library, left=last)\n",
    "        last += co_occurring_library\n",
    "    \n",
    "    ax.invert_yaxis()\n",
    "    return despine(ax)"
   ]
  },
  {
   "cell_type": "markdown",
   "id": "6d2924fb-356f-4a3a-a5a8-8624c8cddf7e",
   "metadata": {
    "slideshow": {
     "slide_type": "subslide"
    },
    "tags": []
   },
   "source": [
    "Calling our function gives us the start of our stacked bar plot visualization:"
   ]
  },
  {
   "cell_type": "code",
   "execution_count": null,
   "id": "51c75715-c9c5-4764-9e2b-8e1c07b4c2b9",
   "metadata": {},
   "outputs": [],
   "source": [
    "ax = stacked_bars(co_occur)"
   ]
  },
  {
   "cell_type": "markdown",
   "id": "afcf1c1c-5cd5-4ad8-b1b2-6ca6ccfebcfa",
   "metadata": {
    "slideshow": {
     "slide_type": "subslide"
    },
    "tags": []
   },
   "source": [
    "#### 2. Add the legend.\n",
    "Next, we add a legend to understand what the colors mean:"
   ]
  },
  {
   "cell_type": "code",
   "execution_count": null,
   "id": "a64bce78-201a-4887-b92d-10130fbfbe1f",
   "metadata": {},
   "outputs": [],
   "source": [
    "ax = stacked_bars(co_occur)\n",
    "ax.legend(bbox_to_anchor=(1.35, 0.5), loc='center right', framealpha=0.5)"
   ]
  },
  {
   "cell_type": "markdown",
   "id": "aaa48b3f-66b3-49fd-9c16-a18641c812e3",
   "metadata": {
    "slideshow": {
     "slide_type": "subslide"
    },
    "tags": []
   },
   "source": [
    "#### 3. Label and format the plot.\n",
    "Then, we label our x-axis and set the limits of the x-axis (`xlim`) so that it goes from 0% to 100%. We also use `ticker.PercentFormatter` to display our x-axis tick labels as percentages. Note that we passed in `xmax=1` when instantiating it because our data already contains percentages, but passing in the maximum value in the data will calculate the percentages:"
   ]
  },
  {
   "cell_type": "code",
   "execution_count": null,
   "id": "e388dfc8-e05c-4424-ae06-1457e5bd330c",
   "metadata": {},
   "outputs": [],
   "source": [
    "ax = stacked_bars(co_occur)\n",
    "ax.legend(bbox_to_anchor=(1.35, 0.5), loc='center right', framealpha=0.5)\n",
    "ax.set(xlabel='percentage of questions with co-occurrences', xlim=(0, 1))\n",
    "ax.xaxis.set_major_formatter(ticker.PercentFormatter(xmax=1))"
   ]
  },
  {
   "cell_type": "markdown",
   "id": "219ec2dd-9d8a-441d-bac8-bc5564936781",
   "metadata": {
    "slideshow": {
     "slide_type": "subslide"
    },
    "tags": []
   },
   "source": [
    "Before moving on, let's update our function to include what we have so far:"
   ]
  },
  {
   "cell_type": "code",
   "execution_count": null,
   "id": "3c80be8a-6e08-4d8e-ba69-413da49bbbbe",
   "metadata": {},
   "outputs": [],
   "source": [
    "def stacked_bars(data):\n",
    "    fig, ax = plt.subplots(figsize=(6, 3))\n",
    "    libraries = data.index\n",
    "\n",
    "    last = 0\n",
    "    for library in libraries:\n",
    "        co_occurring_library = data[library]\n",
    "        ax.barh(libraries, co_occurring_library, label=library, left=last)\n",
    "        last += co_occurring_library\n",
    "    \n",
    "    ax.invert_yaxis()\n",
    "    ax.legend(bbox_to_anchor=(1.35, 0.5), loc='center right', framealpha=0.5)\n",
    "    ax.set(xlabel='percentage of questions with co-occurrences', xlim=(0, 1))\n",
    "    ax.xaxis.set_major_formatter(ticker.PercentFormatter(xmax=1))\n",
    "    return despine(ax)"
   ]
  },
  {
   "cell_type": "markdown",
   "id": "391b85d1-0af2-4de8-9186-ac8b3870a3fe",
   "metadata": {
    "slideshow": {
     "slide_type": "subslide"
    },
    "tags": []
   },
   "source": [
    "#### 4. Annotate the bars.\n",
    "As with the previous example, we annotate our bars after accessing each via the `patches` attribute on the `Axes` object. However, this time we only label bars whose values surpass a threshold &ndash; note that the value of a bar here is its width:"
   ]
  },
  {
   "cell_type": "code",
   "execution_count": null,
   "id": "c8bcab31-9fd7-4325-8ad6-7eb53cb8a796",
   "metadata": {},
   "outputs": [],
   "source": [
    "ax = stacked_bars(co_occur)\n",
    "\n",
    "for patch in ax.patches:\n",
    "    width = patch.get_width()\n",
    "    if width > .09:\n",
    "        ax.text(\n",
    "            patch.get_x() + width/2, patch.get_y() + patch.get_height()/2,\n",
    "            f'{width:.1%}', va='center', ha='center', color='ivory', fontsize=11\n",
    "        )"
   ]
  },
  {
   "cell_type": "markdown",
   "id": "e6be2d86-2d3b-42b2-b33d-64987242a242",
   "metadata": {
    "slideshow": {
     "slide_type": "subslide"
    },
    "tags": []
   },
   "source": [
    "Let's package up the annotation logic before moving on:"
   ]
  },
  {
   "cell_type": "code",
   "execution_count": null,
   "id": "90da956d-102d-44b6-a5fc-929a0020e863",
   "metadata": {},
   "outputs": [],
   "source": [
    "def annotate_bars(ax, threshold):\n",
    "    for patch in ax.patches:\n",
    "        width = patch.get_width()\n",
    "        if width > threshold:\n",
    "            ax.text(\n",
    "                patch.get_x() + width/2, patch.get_y() + patch.get_height()/2,\n",
    "                f'{width:.1%}', va='center', ha='center', color='ivory', fontsize=11\n",
    "            )\n",
    "    return ax"
   ]
  },
  {
   "cell_type": "markdown",
   "id": "61c80b66-781f-4ebc-ad2b-9fe4af7c64ff",
   "metadata": {
    "slideshow": {
     "slide_type": "subslide"
    },
    "tags": []
   },
   "source": [
    "#### 5. Change the color scheme.\n",
    "Throughout this workshop, we have been using default colormaps. For this visualization, we will take a look at how to change the colormap. Note that this is only one way of working with colormaps."
   ]
  },
  {
   "cell_type": "markdown",
   "id": "41d755f3-7354-4951-b2cc-5196a45ed58c",
   "metadata": {
    "slideshow": {
     "slide_type": "subslide"
    },
    "tags": []
   },
   "source": [
    "We will start by importing the `cm` module, which contains all the colormaps (full list [here](https://matplotlib.org/stable/gallery/color/colormap_reference.html#sphx-glr-gallery-color-colormap-reference-py)). For this example, we will select the `tab10` qualitative colormap and reverse its order:"
   ]
  },
  {
   "cell_type": "code",
   "execution_count": null,
   "id": "99b6eb67-d2aa-45ff-8c77-007a7d0ab1c0",
   "metadata": {},
   "outputs": [],
   "source": [
    "from matplotlib import cm\n",
    "\n",
    "cmap = cm.get_cmap('tab10').reversed()"
   ]
  },
  {
   "cell_type": "markdown",
   "id": "1937140e-654c-4bd0-b635-70931e73cac1",
   "metadata": {
    "slideshow": {
     "slide_type": "fragment"
    },
    "tags": []
   },
   "source": [
    "*Note: The colormap we selected is the default colormap, but reversing it will change the order in which the colors are assigned. Since we have nine elements and ten colors, we will see a new color this time.*"
   ]
  },
  {
   "cell_type": "markdown",
   "id": "032e4f60-5bf1-4cc6-9257-cff1c8f7cb7f",
   "metadata": {
    "slideshow": {
     "slide_type": "subslide"
    },
    "tags": []
   },
   "source": [
    "The colormap object is a **callable**:"
   ]
  },
  {
   "cell_type": "code",
   "execution_count": null,
   "id": "94c3f3db-0294-471a-b6a2-99e2f2f7e00f",
   "metadata": {},
   "outputs": [],
   "source": [
    "[cmap(i) for i in range(10)]"
   ]
  },
  {
   "cell_type": "markdown",
   "id": "d1797938-166a-4748-b036-eaa6cb6c4305",
   "metadata": {
    "slideshow": {
     "slide_type": "fragment"
    },
    "tags": []
   },
   "source": [
    "*Tip: Learn more about callables [here](https://www.pythonmorsels.com/topics/callables/).*"
   ]
  },
  {
   "cell_type": "markdown",
   "id": "8bbe4428-57dc-4d2f-b181-c1f50ba9b7ca",
   "metadata": {
    "slideshow": {
     "slide_type": "subslide"
    },
    "tags": []
   },
   "source": [
    "This means that when we update our `stacked_bars()` function to accept a colormap, we also need to update our `for` loop:"
   ]
  },
  {
   "cell_type": "code",
   "execution_count": null,
   "id": "9e78e33c-49bc-447f-a7a1-3796d164b78b",
   "metadata": {},
   "outputs": [],
   "source": [
    "def stacked_bars(data, cmap):\n",
    "    fig, ax = plt.subplots(figsize=(6, 3))\n",
    "    libraries = data.index\n",
    "\n",
    "    last = 0\n",
    "    for i, library in enumerate(libraries):\n",
    "        co_occurring_library = data[library]\n",
    "        ax.barh(\n",
    "            libraries, co_occurring_library, \n",
    "            label=library, left=last, color=cmap(i)\n",
    "        )\n",
    "        last += co_occurring_library\n",
    "    \n",
    "    ax.invert_yaxis()\n",
    "    ax.legend(bbox_to_anchor=(1.35, 0.5), loc='center right', framealpha=0.5)\n",
    "    ax.set(xlabel='percentage of questions with co-occurrences', xlim=(0, 1))\n",
    "    ax.xaxis.set_major_formatter(ticker.PercentFormatter(xmax=1))\n",
    "    return despine(ax)"
   ]
  },
  {
   "cell_type": "markdown",
   "id": "c238451e-4c1a-471c-96da-e3ef61298d29",
   "metadata": {
    "slideshow": {
     "slide_type": "subslide"
    },
    "tags": []
   },
   "source": [
    "Calling the updated function with the reversed colormap changes the colors on each of the bars:"
   ]
  },
  {
   "cell_type": "code",
   "execution_count": null,
   "id": "7368c40e-d05a-4de0-807d-96409d80b7be",
   "metadata": {},
   "outputs": [],
   "source": [
    "ax = stacked_bars(co_occur, cmap)\n",
    "annotate_bars(ax, threshold=0.09)"
   ]
  },
  {
   "cell_type": "markdown",
   "id": "2760b1a7-fc5a-43d4-b925-110dffbfaab4",
   "metadata": {
    "slideshow": {
     "slide_type": "fragment"
    },
    "tags": []
   },
   "source": [
    "*Tip: The full list of colors Matplotlib recognizes by name can be found [here](https://matplotlib.org/stable/gallery/color/named_colors.html#sphx-glr-gallery-color-named-colors-py).*"
   ]
  },
  {
   "cell_type": "markdown",
   "id": "391949e1-534c-49a2-a6d3-0a076a4fd82a",
   "metadata": {
    "slideshow": {
     "slide_type": "slide"
    },
    "tags": []
   },
   "source": [
    "### Exercise 1.3\n",
    "\n",
    "##### Using the data in `weather.csv`, create a stacked horizontal bar plot of total precipitation per city per quarter (each city will have four segments &ndash; one for the total precipitation in each quarter of the year). Add a vertical line at Seattle's total precipitation."
   ]
  },
  {
   "cell_type": "code",
   "execution_count": null,
   "id": "7e5949ee-881f-4097-b5ce-e6d7816691c7",
   "metadata": {},
   "outputs": [],
   "source": [
    "# Complete exercise 1.3 "
   ]
  },
  {
   "cell_type": "code",
   "execution_count": null,
   "id": "6ba3806b-466d-42ed-a2d9-94177b4687b1",
   "metadata": {},
   "outputs": [],
   "source": [
    "# TIP: the `despine()` function is available in utils.py"
   ]
  },
  {
   "cell_type": "markdown",
   "id": "f576fd60-61ae-4bd1-bc55-9b6b93e23f23",
   "metadata": {
    "slideshow": {
     "slide_type": "slide"
    },
    "tags": []
   },
   "source": [
    "### Histogram\n",
    "\n",
    "We will now be switching to a different dataset for the final two plot types that we will be discussing. The new dataset we will be working with contains NYC subway entrances and exits per borough per day for 2017-2021. It was resampled from [this](https://www.kaggle.com/eddeng/nyc-subway-traffic-data-20172021?select=NYC_subway_traffic_2017-2021.csv) Kaggle dataset created through some extensive data wrangling by Kaggle user [Edden](https://www.kaggle.com/eddeng). Our dataset looks like this:"
   ]
  },
  {
   "cell_type": "code",
   "execution_count": null,
   "id": "34077b66-fa14-4ca4-86de-d6c7dd9a4047",
   "metadata": {},
   "outputs": [],
   "source": [
    "subway = pd.read_csv(\n",
    "    '../data/NYC_subway_daily.csv', parse_dates=['Datetime'], \n",
    "    index_col=['Borough', 'Datetime']\n",
    ")\n",
    "subway_daily = subway.unstack(0)\n",
    "subway_daily.head()"
   ]
  },
  {
   "cell_type": "markdown",
   "id": "9a7f3616-4050-4602-a60b-a73c08ffdc7f",
   "metadata": {
    "slideshow": {
     "slide_type": "subslide"
    },
    "tags": []
   },
   "source": [
    "We will build a histogram of daily subway entries in Manhattan with this data using the following steps:\n",
    "1. Create the histogram.\n",
    "2. Label and format the plot.\n",
    "3. Explore the use of subplots."
   ]
  },
  {
   "cell_type": "markdown",
   "id": "9c950a7d-0b83-4d93-87a6-d222acc75aec",
   "metadata": {
    "slideshow": {
     "slide_type": "subslide"
    },
    "tags": []
   },
   "source": [
    "#### 1. Create the histogram.\n",
    "To create a histogram, we use the `hist()` method:"
   ]
  },
  {
   "cell_type": "code",
   "execution_count": null,
   "id": "b15bf1f0-d1bb-4f89-9bfb-dbc0a35376f3",
   "metadata": {},
   "outputs": [],
   "source": [
    "fig, ax = plt.subplots(figsize=(6, 3))\n",
    "ax.hist(subway_daily.loc['2018', 'Entries']['M'], ec='black')"
   ]
  },
  {
   "cell_type": "markdown",
   "id": "fc3eddf8-20e5-4479-87a1-128bdaeee4c9",
   "metadata": {
    "slideshow": {
     "slide_type": "subslide"
    },
    "tags": []
   },
   "source": [
    "#### 2. Label and format the plot.\n",
    "Next, we clean up the plot by labeling axes and formatting the tick labels:"
   ]
  },
  {
   "cell_type": "code",
   "execution_count": null,
   "id": "59022c0c-4413-459d-a060-9d58d3f1f154",
   "metadata": {},
   "outputs": [],
   "source": [
    "fig, ax = plt.subplots(figsize=(6, 3))\n",
    "ax.hist(subway_daily.loc['2018', 'Entries']['M'], ec='black')\n",
    "ax.set(\n",
    "    xlabel='Entries', ylabel='Frequency',\n",
    "    title='Histogram of Daily Subway Entries in Manhattan'\n",
    ")\n",
    "ax.xaxis.set_major_formatter(ticker.EngFormatter())\n",
    "despine(ax)"
   ]
  },
  {
   "cell_type": "markdown",
   "id": "b8586f37-0447-4291-9ac4-0c0e539cc1f0",
   "metadata": {
    "slideshow": {
     "slide_type": "subslide"
    },
    "tags": []
   },
   "source": [
    "#### 3. Explore the use of subplots.\n",
    "The histogram of daily subway entries in Manhattan shows a distribution that is clearly bimodal. Let's use subplots to separate out the weekday and weekend distributions that combine to form the shape that we are seeing."
   ]
  },
  {
   "cell_type": "markdown",
   "id": "d24e2fcd-2afc-4491-9f84-cd9fc4b8a790",
   "metadata": {
    "slideshow": {
     "slide_type": "subslide"
    },
    "tags": []
   },
   "source": [
    "First, we will need to create a Boolean mask to be able to filter our data by weekday versus weekend:"
   ]
  },
  {
   "cell_type": "code",
   "execution_count": null,
   "id": "65067dfa-1fb7-4a78-bd24-3a770b6396df",
   "metadata": {},
   "outputs": [],
   "source": [
    "weekday_mask = subway_daily.index.weekday < 5\n",
    "weekday_mask"
   ]
  },
  {
   "cell_type": "markdown",
   "id": "2b413d53-1e9c-4d24-8f14-646aa87d22f0",
   "metadata": {
    "slideshow": {
     "slide_type": "subslide"
    },
    "tags": []
   },
   "source": [
    "Next, we will need to update our call to `plt.subplots()` to specify one row of two columns as our layout, with all subplots sharing the same x-axis range (`sharex=True`). Since there are fewer weekend days than weekdays in the year, we don't share the y-axis (`sharey=False`). As before, we call the `hist()` method to add the histogram to each of the subplots:"
   ]
  },
  {
   "cell_type": "code",
   "execution_count": null,
   "id": "1f04821c-1fad-400d-9ffe-1709bde29435",
   "metadata": {},
   "outputs": [],
   "source": [
    "fig, axes = plt.subplots(1, 2, figsize=(8, 3), sharex=True, sharey=False)\n",
    "\n",
    "for ax, mask in zip(axes, [~weekday_mask, weekday_mask]):\n",
    "    ax.hist(subway_daily[mask].loc['2018', 'Entries']['M'], ec='black')"
   ]
  },
  {
   "cell_type": "markdown",
   "id": "85404c2a-a936-4035-a388-891df0d6fc0f",
   "metadata": {
    "slideshow": {
     "slide_type": "fragment"
    },
    "tags": []
   },
   "source": [
    "*Tip: When iterating over layouts with multiple rows and columns (e.g., a 2x2 layout), call the `flatten()` method on the NumPy ndarray of `Axes` objects to iterate over the `Axes` objects one by one rather than row by row.*"
   ]
  },
  {
   "cell_type": "markdown",
   "id": "303b9eb7-0711-4a64-985c-0c3aaa13fec5",
   "metadata": {
    "slideshow": {
     "slide_type": "subslide"
    },
    "tags": []
   },
   "source": [
    "Now, let's label and format the subplots. We will use the x-axis label to distinguish between the weekday and weekend distributions, and we will only provide a label for the y-axis of the leftmost plot to reduce clutter. This requires that we include a label in our `for` loop. Here, we are also updating the x-axis tick label format to use engineering notation:"
   ]
  },
  {
   "cell_type": "code",
   "execution_count": null,
   "id": "7d6113ce-d997-4d65-bedb-f0265ff7c369",
   "metadata": {},
   "outputs": [],
   "source": [
    "fig, axes = plt.subplots(1, 2, figsize=(8, 3), sharex=True, sharey=False)\n",
    "\n",
    "for ax, mask, label in zip(axes, [~weekday_mask, weekday_mask], ['Weekend', 'Weekday']):\n",
    "    ax.hist(subway_daily[mask].loc['2018', 'Entries']['M'], ec='black')\n",
    "    ax.set_xlabel(f'Entries per {label}')\n",
    "    ax.xaxis.set_major_formatter(ticker.EngFormatter())\n",
    "    despine(ax)\n",
    "axes[0].set_ylabel('Frequency')"
   ]
  },
  {
   "cell_type": "markdown",
   "id": "63b6ce91-f82d-4dad-8c90-ba15f98b8721",
   "metadata": {
    "slideshow": {
     "slide_type": "subslide"
    },
    "tags": []
   },
   "source": [
    "Since we have multiple subplots, we need to call the `suptitle()` method on the `Figure` object to provide a title for the whole visualization. This shows the clear shift in subway usage between weekdays and weekends, along with the effect of the bridge-and-tunnel crowd:"
   ]
  },
  {
   "cell_type": "code",
   "execution_count": null,
   "id": "f7531109-4aab-4f87-b4ec-90ec0fbe02ea",
   "metadata": {},
   "outputs": [],
   "source": [
    "fig, axes = plt.subplots(1, 2, figsize=(8, 3), sharex=True, sharey=False)\n",
    "\n",
    "for ax, mask, label in zip(axes, [~weekday_mask, weekday_mask], ['Weekend', 'Weekday']):\n",
    "    ax.hist(subway_daily[mask].loc['2018', 'Entries']['M'], ec='black')\n",
    "    ax.set_xlabel(f'Entries per {label}')\n",
    "    ax.xaxis.set_major_formatter(ticker.EngFormatter())\n",
    "    despine(ax)\n",
    "axes[0].set_ylabel('Frequency')\n",
    "fig.suptitle('Histogram of Daily Subway Entries in Manhattan')"
   ]
  },
  {
   "cell_type": "markdown",
   "id": "6e065496-13a0-4ac4-a75c-ef1d427a2938",
   "metadata": {
    "slideshow": {
     "slide_type": "slide"
    },
    "tags": []
   },
   "source": [
    "### Box plot\n",
    "As an alternative to the previous visualization, we will create box plots. Our initial code looks very similar &ndash; we just call the `boxplot()` method instead of the `hist()` method:"
   ]
  },
  {
   "cell_type": "code",
   "execution_count": null,
   "id": "747eab1f-30cb-4ea4-b3cf-c57fead44f88",
   "metadata": {},
   "outputs": [],
   "source": [
    "fig, axes = plt.subplots(1, 2, figsize=(6, 2.5), sharey=True)\n",
    "for ax, mask, label in zip(axes, [~weekday_mask, weekday_mask], ['Weekend', 'Weekday']):\n",
    "    ax.boxplot(subway_daily[mask].loc['2018', 'Entries']['M'])\n",
    "    ax.set_xlabel(label)\n",
    "    ax.yaxis.set_major_formatter(ticker.EngFormatter())\n",
    "    despine(ax)\n",
    "axes[0].set_ylabel('daily subway entries')\n",
    "fig.suptitle('Box Plot of Daily Subway Entries in Manhattan')"
   ]
  },
  {
   "cell_type": "markdown",
   "id": "b8dfa33a-ee77-4c3c-a43a-d12657f9fc4c",
   "metadata": {
    "slideshow": {
     "slide_type": "subslide"
    },
    "tags": []
   },
   "source": [
    "However, this time each of the subplots has a single tick with the label **1**. Rather than setting the x-axis label, we will need to use the `set_xticklabels()` method:"
   ]
  },
  {
   "cell_type": "code",
   "execution_count": null,
   "id": "93baaaab-42a7-4120-9fa3-3167f1e6f071",
   "metadata": {},
   "outputs": [],
   "source": [
    "fig, axes = plt.subplots(1, 2, figsize=(6, 2.5), sharey=True)\n",
    "for ax, mask, label in zip(axes, [~weekday_mask, weekday_mask], ['Weekend', 'Weekday']):\n",
    "    ax.boxplot(subway_daily[mask].loc['2018', 'Entries']['M'])\n",
    "    ax.set_xticklabels([label]) # label the ticks instead of the axis this time\n",
    "    ax.yaxis.set_major_formatter(ticker.EngFormatter())\n",
    "    despine(ax)\n",
    "axes[0].set_ylabel('daily subway entries')\n",
    "fig.suptitle('Box Plot of Daily Subway Entries in Manhattan')"
   ]
  },
  {
   "cell_type": "markdown",
   "id": "acfb3a3f-0080-4943-8166-b385c9059189",
   "metadata": {
    "slideshow": {
     "slide_type": "subslide"
    },
    "tags": []
   },
   "source": [
    "The final tweak we will cover in this section is the `tight_layout()` method, which will adjust the layout of the visualization to make better use of the space (more info [here](https://matplotlib.org/stable/tutorials/intermediate/tight_layout_guide.html?highlight=tight%20layout%20guide)). Notice that here it reduced the space between the subplots by adjusting the length of the x-axis of each subplot. This method can also be useful when labels are partially covered:"
   ]
  },
  {
   "cell_type": "code",
   "execution_count": null,
   "id": "cbe78fce-33b8-4071-81b3-e8e0592bedea",
   "metadata": {},
   "outputs": [],
   "source": [
    "fig, axes = plt.subplots(1, 2, figsize=(6, 2.5), sharey=True)\n",
    "for ax, mask, label in zip(axes, [~weekday_mask, weekday_mask], ['Weekend', 'Weekday']):\n",
    "    ax.boxplot(subway_daily[mask].loc['2018', 'Entries']['M'])\n",
    "    ax.set_xticklabels([label])\n",
    "    ax.yaxis.set_major_formatter(ticker.EngFormatter())\n",
    "    despine(ax)\n",
    "axes[0].set_ylabel('daily subway entries')\n",
    "fig.suptitle('Box Plot of Daily Subway Entries in Manhattan')\n",
    "fig.tight_layout()"
   ]
  },
  {
   "cell_type": "markdown",
   "id": "de1f9bfb-0bf4-486a-9763-d2d568cc4b7f",
   "metadata": {
    "slideshow": {
     "slide_type": "fragment"
    },
    "tags": []
   },
   "source": [
    "*Tip: Save any of the visualizations we've built by calling the `plt.savefig()` function or the `savefig()` method on the `Figure` object as the last line in the cell generating the plot.*"
   ]
  },
  {
   "cell_type": "markdown",
   "id": "82294617-be6e-40b6-9037-64743f168060",
   "metadata": {
    "slideshow": {
     "slide_type": "slide"
    },
    "tags": []
   },
   "source": [
    "### Exercise 1.4\n",
    "\n",
    "##### Using the data in `weather.csv`, generate histograms for the daily average wind (`AWND`) in each of the cities. Make sure to use subplots that share both the x- and y-axis."
   ]
  },
  {
   "cell_type": "code",
   "execution_count": null,
   "id": "2bbd3549-7198-4ae4-8f79-91ddcc00e9b8",
   "metadata": {},
   "outputs": [],
   "source": [
    "# Complete exercise 1.4 "
   ]
  },
  {
   "cell_type": "code",
   "execution_count": null,
   "id": "d8e0405f-c053-45f9-aeba-1972e2226499",
   "metadata": {},
   "outputs": [],
   "source": [
    "# TIP: the `despine()` function is available in utils.py"
   ]
  }
 ],
 "metadata": {
  "kernelspec": {
   "display_name": "Python 3 (ipykernel)",
   "language": "python",
   "name": "python3"
  },
  "language_info": {
   "codemirror_mode": {
    "name": "ipython",
    "version": 3
   },
   "file_extension": ".py",
   "mimetype": "text/x-python",
   "name": "python",
   "nbconvert_exporter": "python",
   "pygments_lexer": "ipython3",
   "version": "3.10.2"
  }
 },
 "nbformat": 4,
 "nbformat_minor": 5
}
